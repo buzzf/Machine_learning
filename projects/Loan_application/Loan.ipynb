{
 "cells": [
  {
   "cell_type": "code",
   "execution_count": 4,
   "metadata": {},
   "outputs": [
    {
     "name": "stderr",
     "output_type": "stream",
     "text": [
      "/usr/local/lib/python3.5/dist-packages/IPython/core/interactiveshell.py:2728: DtypeWarning: Columns (0,47) have mixed types. Specify dtype option on import or set low_memory=False.\n",
      "  interactivity=interactivity, compiler=compiler, result=result)\n"
     ]
    }
   ],
   "source": [
    "import pandas as pd\n",
    "loans_2011 = pd.read_csv('LoanStats3a.csv',skiprows=1)\n",
    "half_count = len(loans_2011)//2\n",
    "loans_2011 = loans_2011.dropna(thresh=half_count, axis=1)\n",
    "loans_2011 = loans_2011.drop(['desc'], axis=1)\n",
    "loans_2011.to_csv('loans_2011.csv')"
   ]
  },
  {
   "cell_type": "code",
   "execution_count": 15,
   "metadata": {},
   "outputs": [
    {
     "name": "stdout",
     "output_type": "stream",
     "text": [
      "loan_amnt                            5000\n",
      "funded_amnt                          5000\n",
      "funded_amnt_inv                      4975\n",
      "term                            36 months\n",
      "int_rate                           10.65%\n",
      "installment                        162.87\n",
      "grade                                   B\n",
      "sub_grade                              B2\n",
      "emp_title                             NaN\n",
      "emp_length                      10+ years\n",
      "home_ownership                       RENT\n",
      "annual_inc                          24000\n",
      "verification_status              Verified\n",
      "issue_d                          Dec-2011\n",
      "loan_status                    Fully Paid\n",
      "pymnt_plan                              n\n",
      "purpose                       credit_card\n",
      "title                            Computer\n",
      "zip_code                            860xx\n",
      "addr_state                             AZ\n",
      "dti                                 27.65\n",
      "delinq_2yrs                             0\n",
      "earliest_cr_line                 Jan-1985\n",
      "inq_last_6mths                          1\n",
      "open_acc                                3\n",
      "pub_rec                                 0\n",
      "revol_bal                           13648\n",
      "revol_util                          83.7%\n",
      "total_acc                               9\n",
      "initial_list_status                     f\n",
      "out_prncp                               0\n",
      "out_prncp_inv                           0\n",
      "total_pymnt                       5863.16\n",
      "total_pymnt_inv                   5833.84\n",
      "total_rec_prncp                      5000\n",
      "total_rec_int                      863.16\n",
      "total_rec_late_fee                      0\n",
      "recoveries                              0\n",
      "collection_recovery_fee                 0\n",
      "last_pymnt_d                     Jan-2015\n",
      "last_pymnt_amnt                    171.62\n",
      "last_credit_pull_d               Jun-2018\n",
      "collections_12_mths_ex_med              0\n",
      "policy_code                             1\n",
      "application_type               Individual\n",
      "acc_now_delinq                          0\n",
      "chargeoff_within_12_mths                0\n",
      "delinq_amnt                             0\n",
      "pub_rec_bankruptcies                    0\n",
      "tax_liens                               0\n",
      "hardship_flag                           N\n",
      "disbursement_method                  Cash\n",
      "debt_settlement_flag                    N\n",
      "Name: 0, dtype: object\n",
      "53\n"
     ]
    }
   ],
   "source": [
    "loans_2011 = pd.read_csv('loans_2011.csv')\n",
    "loans_2011.drop_duplicates()\n",
    "print(loans_2011.iloc[0])\n",
    "print(loans_2011.shape[1])"
   ]
  },
  {
   "cell_type": "code",
   "execution_count": 16,
   "metadata": {},
   "outputs": [],
   "source": [
    "loans_2011 = loans_2011.drop([\"funded_amnt\", \"funded_amnt_inv\", \"grade\", \"sub_grade\", \"emp_title\", \"issue_d\"], axis=1)"
   ]
  },
  {
   "cell_type": "code",
   "execution_count": 17,
   "metadata": {},
   "outputs": [],
   "source": [
    "loans_2011 = loans_2011.drop([\"zip_code\", \"out_prncp\", \"out_prncp_inv\", \"total_pymnt\", \"total_pymnt_inv\", \"total_rec_prncp\"],axis=1)"
   ]
  },
  {
   "cell_type": "code",
   "execution_count": 19,
   "metadata": {},
   "outputs": [
    {
     "name": "stdout",
     "output_type": "stream",
     "text": [
      "loan_amnt                            5000\n",
      "term                            36 months\n",
      "int_rate                           10.65%\n",
      "installment                        162.87\n",
      "emp_length                      10+ years\n",
      "home_ownership                       RENT\n",
      "annual_inc                          24000\n",
      "verification_status              Verified\n",
      "loan_status                    Fully Paid\n",
      "pymnt_plan                              n\n",
      "purpose                       credit_card\n",
      "title                            Computer\n",
      "addr_state                             AZ\n",
      "dti                                 27.65\n",
      "delinq_2yrs                             0\n",
      "earliest_cr_line                 Jan-1985\n",
      "inq_last_6mths                          1\n",
      "open_acc                                3\n",
      "pub_rec                                 0\n",
      "revol_bal                           13648\n",
      "revol_util                          83.7%\n",
      "total_acc                               9\n",
      "initial_list_status                     f\n",
      "last_credit_pull_d               Jun-2018\n",
      "collections_12_mths_ex_med              0\n",
      "policy_code                             1\n",
      "application_type               Individual\n",
      "acc_now_delinq                          0\n",
      "chargeoff_within_12_mths                0\n",
      "delinq_amnt                             0\n",
      "pub_rec_bankruptcies                    0\n",
      "tax_liens                               0\n",
      "hardship_flag                           N\n",
      "disbursement_method                  Cash\n",
      "debt_settlement_flag                    N\n",
      "Name: 0, dtype: object\n",
      "35\n"
     ]
    }
   ],
   "source": [
    "loans_2011 = loans_2011.drop([\"total_rec_int\", \"total_rec_late_fee\", \"recoveries\", \"collection_recovery_fee\", \"last_pymnt_d\", \"last_pymnt_amnt\"], axis=1)\n",
    "print(loans_2011.iloc[0])\n",
    "print(loans_2011.shape[1])"
   ]
  },
  {
   "cell_type": "code",
   "execution_count": 20,
   "metadata": {},
   "outputs": [
    {
     "data": {
      "text/plain": [
       "Fully Paid                                             34116\n",
       "Charged Off                                             5670\n",
       "Does not meet the credit policy. Status:Fully Paid      1988\n",
       "Does not meet the credit policy. Status:Charged Off      761\n",
       "Name: loan_status, dtype: int64"
      ]
     },
     "execution_count": 20,
     "metadata": {},
     "output_type": "execute_result"
    }
   ],
   "source": [
    "loans_2011.loan_status.value_counts()"
   ]
  },
  {
   "cell_type": "code",
   "execution_count": 21,
   "metadata": {},
   "outputs": [],
   "source": [
    "status_replace = {\n",
    "    'loan_status': {\n",
    "        'Fully Paid': 1,\n",
    "        'Charged Off': 0,\n",
    "        'Does not meet the credit policy. Status:Fully Paid': 1,\n",
    "        'Does not meet the credit policy. Status:Charged Off': 0\n",
    "    }\n",
    "}\n",
    "loans_2011 = loans_2011.replace(status_replace)"
   ]
  },
  {
   "cell_type": "code",
   "execution_count": 22,
   "metadata": {},
   "outputs": [
    {
     "data": {
      "text/plain": [
       "1.0    36104\n",
       "0.0     6431\n",
       "Name: loan_status, dtype: int64"
      ]
     },
     "execution_count": 22,
     "metadata": {},
     "output_type": "execute_result"
    }
   ],
   "source": [
    "loans_2011.loan_status.value_counts()"
   ]
  },
  {
   "cell_type": "code",
   "execution_count": 23,
   "metadata": {},
   "outputs": [
    {
     "name": "stdout",
     "output_type": "stream",
     "text": [
      "['pymnt_plan', 'initial_list_status', 'collections_12_mths_ex_med', 'policy_code', 'application_type', 'chargeoff_within_12_mths', 'hardship_flag', 'disbursement_method']\n"
     ]
    }
   ],
   "source": [
    "orig_columns = loans_2011.columns\n",
    "drop_columns = []\n",
    "for col in orig_columns:\n",
    "    col_series = loans_2011[col].dropna().unique()\n",
    "    if len(col_series) == 1:\n",
    "        drop_columns.append(col)\n",
    "loans_2011 = loans_2011.drop(drop_columns, axis=1)\n",
    "print(drop_columns)"
   ]
  },
  {
   "cell_type": "code",
   "execution_count": 24,
   "metadata": {},
   "outputs": [
    {
     "name": "stdout",
     "output_type": "stream",
     "text": [
      "(42538, 27)\n"
     ]
    }
   ],
   "source": [
    "print(loans_2011.shape)"
   ]
  },
  {
   "cell_type": "code",
   "execution_count": 25,
   "metadata": {},
   "outputs": [
    {
     "data": {
      "text/html": [
       "<div>\n",
       "<style scoped>\n",
       "    .dataframe tbody tr th:only-of-type {\n",
       "        vertical-align: middle;\n",
       "    }\n",
       "\n",
       "    .dataframe tbody tr th {\n",
       "        vertical-align: top;\n",
       "    }\n",
       "\n",
       "    .dataframe thead th {\n",
       "        text-align: right;\n",
       "    }\n",
       "</style>\n",
       "<table border=\"1\" class=\"dataframe\">\n",
       "  <thead>\n",
       "    <tr style=\"text-align: right;\">\n",
       "      <th></th>\n",
       "      <th>loan_amnt</th>\n",
       "      <th>term</th>\n",
       "      <th>int_rate</th>\n",
       "      <th>installment</th>\n",
       "      <th>emp_length</th>\n",
       "      <th>home_ownership</th>\n",
       "      <th>annual_inc</th>\n",
       "      <th>verification_status</th>\n",
       "      <th>loan_status</th>\n",
       "      <th>purpose</th>\n",
       "      <th>...</th>\n",
       "      <th>pub_rec</th>\n",
       "      <th>revol_bal</th>\n",
       "      <th>revol_util</th>\n",
       "      <th>total_acc</th>\n",
       "      <th>last_credit_pull_d</th>\n",
       "      <th>acc_now_delinq</th>\n",
       "      <th>delinq_amnt</th>\n",
       "      <th>pub_rec_bankruptcies</th>\n",
       "      <th>tax_liens</th>\n",
       "      <th>debt_settlement_flag</th>\n",
       "    </tr>\n",
       "  </thead>\n",
       "  <tbody>\n",
       "    <tr>\n",
       "      <th>0</th>\n",
       "      <td>5000.0</td>\n",
       "      <td>36 months</td>\n",
       "      <td>10.65%</td>\n",
       "      <td>162.87</td>\n",
       "      <td>10+ years</td>\n",
       "      <td>RENT</td>\n",
       "      <td>24000.0</td>\n",
       "      <td>Verified</td>\n",
       "      <td>1.0</td>\n",
       "      <td>credit_card</td>\n",
       "      <td>...</td>\n",
       "      <td>0.0</td>\n",
       "      <td>13648.0</td>\n",
       "      <td>83.7%</td>\n",
       "      <td>9.0</td>\n",
       "      <td>Jun-2018</td>\n",
       "      <td>0.0</td>\n",
       "      <td>0.0</td>\n",
       "      <td>0.0</td>\n",
       "      <td>0.0</td>\n",
       "      <td>N</td>\n",
       "    </tr>\n",
       "    <tr>\n",
       "      <th>1</th>\n",
       "      <td>2500.0</td>\n",
       "      <td>60 months</td>\n",
       "      <td>15.27%</td>\n",
       "      <td>59.83</td>\n",
       "      <td>&lt; 1 year</td>\n",
       "      <td>RENT</td>\n",
       "      <td>30000.0</td>\n",
       "      <td>Source Verified</td>\n",
       "      <td>0.0</td>\n",
       "      <td>car</td>\n",
       "      <td>...</td>\n",
       "      <td>0.0</td>\n",
       "      <td>1687.0</td>\n",
       "      <td>9.4%</td>\n",
       "      <td>4.0</td>\n",
       "      <td>Oct-2016</td>\n",
       "      <td>0.0</td>\n",
       "      <td>0.0</td>\n",
       "      <td>0.0</td>\n",
       "      <td>0.0</td>\n",
       "      <td>N</td>\n",
       "    </tr>\n",
       "    <tr>\n",
       "      <th>2</th>\n",
       "      <td>2400.0</td>\n",
       "      <td>36 months</td>\n",
       "      <td>15.96%</td>\n",
       "      <td>84.33</td>\n",
       "      <td>10+ years</td>\n",
       "      <td>RENT</td>\n",
       "      <td>12252.0</td>\n",
       "      <td>Not Verified</td>\n",
       "      <td>1.0</td>\n",
       "      <td>small_business</td>\n",
       "      <td>...</td>\n",
       "      <td>0.0</td>\n",
       "      <td>2956.0</td>\n",
       "      <td>98.5%</td>\n",
       "      <td>10.0</td>\n",
       "      <td>Jun-2017</td>\n",
       "      <td>0.0</td>\n",
       "      <td>0.0</td>\n",
       "      <td>0.0</td>\n",
       "      <td>0.0</td>\n",
       "      <td>N</td>\n",
       "    </tr>\n",
       "    <tr>\n",
       "      <th>3</th>\n",
       "      <td>10000.0</td>\n",
       "      <td>36 months</td>\n",
       "      <td>13.49%</td>\n",
       "      <td>339.31</td>\n",
       "      <td>10+ years</td>\n",
       "      <td>RENT</td>\n",
       "      <td>49200.0</td>\n",
       "      <td>Source Verified</td>\n",
       "      <td>1.0</td>\n",
       "      <td>other</td>\n",
       "      <td>...</td>\n",
       "      <td>0.0</td>\n",
       "      <td>5598.0</td>\n",
       "      <td>21%</td>\n",
       "      <td>37.0</td>\n",
       "      <td>Apr-2016</td>\n",
       "      <td>0.0</td>\n",
       "      <td>0.0</td>\n",
       "      <td>0.0</td>\n",
       "      <td>0.0</td>\n",
       "      <td>N</td>\n",
       "    </tr>\n",
       "    <tr>\n",
       "      <th>4</th>\n",
       "      <td>3000.0</td>\n",
       "      <td>60 months</td>\n",
       "      <td>12.69%</td>\n",
       "      <td>67.79</td>\n",
       "      <td>1 year</td>\n",
       "      <td>RENT</td>\n",
       "      <td>80000.0</td>\n",
       "      <td>Source Verified</td>\n",
       "      <td>1.0</td>\n",
       "      <td>other</td>\n",
       "      <td>...</td>\n",
       "      <td>0.0</td>\n",
       "      <td>27783.0</td>\n",
       "      <td>53.9%</td>\n",
       "      <td>38.0</td>\n",
       "      <td>Apr-2018</td>\n",
       "      <td>0.0</td>\n",
       "      <td>0.0</td>\n",
       "      <td>0.0</td>\n",
       "      <td>0.0</td>\n",
       "      <td>N</td>\n",
       "    </tr>\n",
       "  </tbody>\n",
       "</table>\n",
       "<p>5 rows × 27 columns</p>\n",
       "</div>"
      ],
      "text/plain": [
       "   loan_amnt        term int_rate  installment emp_length home_ownership  \\\n",
       "0     5000.0   36 months   10.65%       162.87  10+ years           RENT   \n",
       "1     2500.0   60 months   15.27%        59.83   < 1 year           RENT   \n",
       "2     2400.0   36 months   15.96%        84.33  10+ years           RENT   \n",
       "3    10000.0   36 months   13.49%       339.31  10+ years           RENT   \n",
       "4     3000.0   60 months   12.69%        67.79     1 year           RENT   \n",
       "\n",
       "   annual_inc verification_status  loan_status         purpose  \\\n",
       "0     24000.0            Verified          1.0     credit_card   \n",
       "1     30000.0     Source Verified          0.0             car   \n",
       "2     12252.0        Not Verified          1.0  small_business   \n",
       "3     49200.0     Source Verified          1.0           other   \n",
       "4     80000.0     Source Verified          1.0           other   \n",
       "\n",
       "          ...          pub_rec revol_bal  revol_util  total_acc  \\\n",
       "0         ...              0.0   13648.0       83.7%        9.0   \n",
       "1         ...              0.0    1687.0        9.4%        4.0   \n",
       "2         ...              0.0    2956.0       98.5%       10.0   \n",
       "3         ...              0.0    5598.0         21%       37.0   \n",
       "4         ...              0.0   27783.0       53.9%       38.0   \n",
       "\n",
       "  last_credit_pull_d  acc_now_delinq  delinq_amnt  pub_rec_bankruptcies  \\\n",
       "0           Jun-2018             0.0          0.0                   0.0   \n",
       "1           Oct-2016             0.0          0.0                   0.0   \n",
       "2           Jun-2017             0.0          0.0                   0.0   \n",
       "3           Apr-2016             0.0          0.0                   0.0   \n",
       "4           Apr-2018             0.0          0.0                   0.0   \n",
       "\n",
       "   tax_liens debt_settlement_flag  \n",
       "0        0.0                    N  \n",
       "1        0.0                    N  \n",
       "2        0.0                    N  \n",
       "3        0.0                    N  \n",
       "4        0.0                    N  \n",
       "\n",
       "[5 rows x 27 columns]"
      ]
     },
     "execution_count": 25,
     "metadata": {},
     "output_type": "execute_result"
    }
   ],
   "source": [
    "loans_2011.head()"
   ]
  },
  {
   "cell_type": "code",
   "execution_count": 26,
   "metadata": {},
   "outputs": [],
   "source": [
    "loans_2011.to_csv('filtered_loans_2011.csv')"
   ]
  },
  {
   "cell_type": "code",
   "execution_count": 58,
   "metadata": {},
   "outputs": [
    {
     "name": "stdout",
     "output_type": "stream",
     "text": [
      "Unnamed: 0                 0\n",
      "loan_amnt                  3\n",
      "term                       3\n",
      "int_rate                   3\n",
      "installment                3\n",
      "emp_length              1115\n",
      "home_ownership             3\n",
      "annual_inc                 7\n",
      "verification_status        3\n",
      "loan_status                3\n",
      "purpose                    3\n",
      "title                     16\n",
      "addr_state                 3\n",
      "dti                        3\n",
      "delinq_2yrs               32\n",
      "earliest_cr_line          32\n",
      "inq_last_6mths            32\n",
      "open_acc                  32\n",
      "pub_rec                   32\n",
      "revol_bal                  3\n",
      "revol_util                93\n",
      "total_acc                 32\n",
      "last_credit_pull_d         7\n",
      "acc_now_delinq            32\n",
      "delinq_amnt               32\n",
      "pub_rec_bankruptcies    1368\n",
      "tax_liens                108\n",
      "debt_settlement_flag       3\n",
      "dtype: int64\n"
     ]
    }
   ],
   "source": [
    "loans_2011 = pd.read_csv('filtered_loans_2011.csv')\n",
    "null_counts = loans_2011.isnull().sum()\n",
    "print(null_counts)"
   ]
  },
  {
   "cell_type": "code",
   "execution_count": 59,
   "metadata": {},
   "outputs": [
    {
     "name": "stdout",
     "output_type": "stream",
     "text": [
      "Unnamed: 0              0\n",
      "loan_amnt               0\n",
      "term                    0\n",
      "int_rate                0\n",
      "installment             0\n",
      "emp_length              0\n",
      "home_ownership          0\n",
      "annual_inc              0\n",
      "verification_status     0\n",
      "loan_status             0\n",
      "purpose                 0\n",
      "title                   0\n",
      "addr_state              0\n",
      "dti                     0\n",
      "delinq_2yrs             0\n",
      "earliest_cr_line        0\n",
      "inq_last_6mths          0\n",
      "open_acc                0\n",
      "pub_rec                 0\n",
      "revol_bal               0\n",
      "revol_util              0\n",
      "total_acc               0\n",
      "last_credit_pull_d      0\n",
      "acc_now_delinq          0\n",
      "delinq_amnt             0\n",
      "tax_liens               0\n",
      "debt_settlement_flag    0\n",
      "dtype: int64\n"
     ]
    }
   ],
   "source": [
    "loans_2011 = loans_2011.drop(['pub_rec_bankruptcies'],axis=1)\n",
    "loans_2011 = loans_2011.dropna(axis=0)\n",
    "null_counts_2 = loans_2011.isnull().sum()\n",
    "print(null_counts_2)"
   ]
  },
  {
   "cell_type": "code",
   "execution_count": 60,
   "metadata": {},
   "outputs": [
    {
     "name": "stdout",
     "output_type": "stream",
     "text": [
      "float64    14\n",
      "object     12\n",
      "int64       1\n",
      "dtype: int64\n"
     ]
    }
   ],
   "source": [
    "print(loans_2011.dtypes.value_counts())"
   ]
  },
  {
   "cell_type": "code",
   "execution_count": 61,
   "metadata": {},
   "outputs": [
    {
     "name": "stdout",
     "output_type": "stream",
     "text": [
      "term                      36 months\n",
      "int_rate                     10.65%\n",
      "emp_length                10+ years\n",
      "home_ownership                 RENT\n",
      "verification_status        Verified\n",
      "purpose                 credit_card\n",
      "title                      Computer\n",
      "addr_state                       AZ\n",
      "earliest_cr_line           Jan-1985\n",
      "revol_util                    83.7%\n",
      "last_credit_pull_d         Jun-2018\n",
      "debt_settlement_flag              N\n",
      "Name: 0, dtype: object\n"
     ]
    }
   ],
   "source": [
    "object_colunms_df = loans_2011.select_dtypes(include=['object'])\n",
    "print(object_colunms_df.iloc[0])"
   ]
  },
  {
   "cell_type": "code",
   "execution_count": 62,
   "metadata": {
    "scrolled": true
   },
   "outputs": [
    {
     "name": "stdout",
     "output_type": "stream",
     "text": [
      "RENT        19662\n",
      "MORTGAGE    18439\n",
      "OWN          3010\n",
      "OTHER         134\n",
      "NONE            2\n",
      "Name: home_ownership, dtype: int64\n",
      "Not Verified       18165\n",
      "Verified           12992\n",
      "Source Verified    10090\n",
      "Name: verification_status, dtype: int64\n",
      "10+ years    9355\n",
      "< 1 year     5003\n",
      "2 years      4727\n",
      "3 years      4354\n",
      "4 years      3633\n",
      "1 year       3567\n",
      "5 years      3449\n",
      "6 years      2368\n",
      "7 years      1868\n",
      "8 years      1587\n",
      "9 years      1336\n",
      "Name: emp_length, dtype: int64\n",
      "N    41099\n",
      "Y      148\n",
      "Name: debt_settlement_flag, dtype: int64\n",
      " 36 months    30530\n",
      " 60 months    10717\n",
      "Name: term, dtype: int64\n",
      "CA    7227\n",
      "NY    3936\n",
      "FL    2992\n",
      "TX    2849\n",
      "NJ    1952\n",
      "IL    1631\n",
      "PA    1610\n",
      "GA    1454\n",
      "VA    1454\n",
      "MA    1386\n",
      "OH    1291\n",
      "MD    1102\n",
      "AZ     881\n",
      "WA     852\n",
      "CO     829\n",
      "NC     797\n",
      "CT     790\n",
      "MI     761\n",
      "MO     734\n",
      "MN     626\n",
      "NV     510\n",
      "WI     493\n",
      "SC     481\n",
      "AL     464\n",
      "OR     452\n",
      "LA     450\n",
      "KY     353\n",
      "OK     310\n",
      "KS     285\n",
      "UT     271\n",
      "AR     250\n",
      "DC     222\n",
      "RI     206\n",
      "NM     199\n",
      "NH     178\n",
      "WV     177\n",
      "HI     176\n",
      "DE     132\n",
      "MT      89\n",
      "AK      84\n",
      "WY      82\n",
      "SD      65\n",
      "VT      57\n",
      "TN      32\n",
      "MS      26\n",
      "IN      15\n",
      "IA      12\n",
      "NE      11\n",
      "ID       9\n",
      "ME       2\n",
      "Name: addr_state, dtype: int64\n"
     ]
    }
   ],
   "source": [
    "cols = ['home_ownership', 'verification_status', 'emp_length', 'debt_settlement_flag', 'term', 'addr_state']\n",
    "for c in cols:\n",
    "    print(loans_2011[c].value_counts())"
   ]
  },
  {
   "cell_type": "code",
   "execution_count": 63,
   "metadata": {
    "scrolled": true
   },
   "outputs": [
    {
     "name": "stdout",
     "output_type": "stream",
     "text": [
      "debt_consolidation    19324\n",
      "credit_card            5317\n",
      "other                  4205\n",
      "home_improvement       3089\n",
      "major_purchase         2230\n",
      "small_business         1939\n",
      "car                    1558\n",
      "wedding                 990\n",
      "medical                 724\n",
      "moving                  598\n",
      "house                   410\n",
      "educational             400\n",
      "vacation                365\n",
      "renewable_energy         98\n",
      "Name: purpose, dtype: int64\n",
      "<bound method IndexOpsMixin.value_counts of 0                                        Computer\n",
      "1                                            bike\n",
      "2                            real estate business\n",
      "3                                        personel\n",
      "4                                        Personal\n",
      "5           My wedding loan I promise to pay back\n",
      "6                                            Loan\n",
      "7                                 Car Downpayment\n",
      "8            Expand Business & Buy Debt Portfolio\n",
      "9                     Building my credit history.\n",
      "10                     High intrest Consolidation\n",
      "11                                  Consolidation\n",
      "12                                        freedom\n",
      "13                                  citicard fund\n",
      "14                                     Other Loan\n",
      "15                        Debt Consolidation Loan\n",
      "16                                           Home\n",
      "17                                        Holiday\n",
      "18                                        Medical\n",
      "19            lowerratemeanseasiertogetoutofdebt!\n",
      "20                      Freedom From Credit Cards\n",
      "21                                   Debt Cleanup\n",
      "22                               Credit Card Loan\n",
      "23                             Debt Consolidation\n",
      "24                                           cash\n",
      "25                      No more credit card debt!\n",
      "26                                  consolidation\n",
      "27                                          Other\n",
      "28                             Debt Consolidation\n",
      "29                     Credit card repayment loan\n",
      "                           ...                   \n",
      "42440                        Graduate School Fund\n",
      "42441                  You know you want to peek!\n",
      "42442            Looking to Refinance Credit Card\n",
      "42443    0 Lates Debt Consolidation. Improve Scre\n",
      "42444                                 CAR REPAIRS\n",
      "42445                                College Loan\n",
      "42446                        tuirtion and housing\n",
      "42448                      Re-Fi $15K Credit Card\n",
      "42449                       Refinance Credit Card\n",
      "42453           Purchasing additional client base\n",
      "42454                         Path to Recovery...\n",
      "42455             Refinance High Rate Credit Card\n",
      "42456                                consolidate \n",
      "42457                    refinancing credit cards\n",
      "42458             Refinance high rate credit card\n",
      "42459     Need just $2,500 to pay off three cards\n",
      "42461                                     loan #1\n",
      "42463                                consolidate \n",
      "42464                    refinancing credit cards\n",
      "42466             Credit Card Trap--Need Escape! \n",
      "42467                  Costing me $715pcm to rent\n",
      "42468             Help Fund For Car and Education\n",
      "42469                                 LAWYER FEES\n",
      "42470          Gettin Rid of High Interest C.C.'s\n",
      "42471                      Pay off College Debts \n",
      "42472                                    Car loan\n",
      "42474                                    Personal\n",
      "42476         Refinancing my car at a better rate\n",
      "42477         Consolidating my high interest cc's\n",
      "42478                               Clearing debt\n",
      "Name: title, Length: 41247, dtype: object>\n"
     ]
    }
   ],
   "source": [
    "print(loans_2011['purpose'].value_counts())\n",
    "print(loans_2011['title'].value_counts)"
   ]
  },
  {
   "cell_type": "code",
   "execution_count": 64,
   "metadata": {},
   "outputs": [],
   "source": [
    "loans_2011 = loans_2011.drop([\"last_credit_pull_d\", \"earliest_cr_line\", \"addr_state\", \"title\"], axis=1)\n",
    "mapping_dict = {\n",
    "    \"emp_length\": {\n",
    "        \"10+ years\": 10,\n",
    "        \"9 years\": 9,\n",
    "        \"8 years\": 8,\n",
    "        \"7 years\": 7,\n",
    "        \"6 years\": 6,\n",
    "        \"5 years\": 5,\n",
    "        \"4 years\": 4,\n",
    "        \"3 years\": 3,\n",
    "        \"2 years\": 2,\n",
    "        \"1 year\": 1,\n",
    "        \"< 1 year\": 0,\n",
    "    }\n",
    "}\n",
    "loans_2011['int_rate'] = loans_2011['int_rate'].str.rstrip('%').astype('float')\n",
    "loans_2011['revol_util'] = loans_2011['revol_util'].str.rstrip('%').astype('float')\n",
    "loans_2011 = loans_2011.replace(mapping_dict)"
   ]
  },
  {
   "cell_type": "code",
   "execution_count": 65,
   "metadata": {},
   "outputs": [
    {
     "data": {
      "text/plain": [
       "10    9355\n",
       "0     5003\n",
       "2     4727\n",
       "3     4354\n",
       "4     3633\n",
       "1     3567\n",
       "5     3449\n",
       "6     2368\n",
       "7     1868\n",
       "8     1587\n",
       "9     1336\n",
       "Name: emp_length, dtype: int64"
      ]
     },
     "execution_count": 65,
     "metadata": {},
     "output_type": "execute_result"
    }
   ],
   "source": [
    "loans_2011.emp_length.value_counts()"
   ]
  },
  {
   "cell_type": "code",
   "execution_count": 66,
   "metadata": {},
   "outputs": [
    {
     "name": "stdout",
     "output_type": "stream",
     "text": [
      "term                      36 months\n",
      "home_ownership                 RENT\n",
      "verification_status        Verified\n",
      "purpose                 credit_card\n",
      "debt_settlement_flag              N\n",
      "Name: 0, dtype: object\n"
     ]
    }
   ],
   "source": [
    "object_colunms_df = loans_2011.select_dtypes(include=['object'])\n",
    "print(object_colunms_df.iloc[0])"
   ]
  },
  {
   "cell_type": "code",
   "execution_count": 67,
   "metadata": {},
   "outputs": [],
   "source": [
    "cat_columns = [\"home_ownership\", \"verification_status\", \"purpose\", \"term\", 'debt_settlement_flag']\n",
    "dummy_df = pd.get_dummies(loans_2011[cat_columns])\n",
    "loans_2011 = pd.concat([loans_2011, dummy_df], axis=1)\n",
    "loans_2011 = loans_2011.drop(cat_columns, axis=1)"
   ]
  },
  {
   "cell_type": "code",
   "execution_count": 79,
   "metadata": {
    "scrolled": true
   },
   "outputs": [],
   "source": [
    "loans_2011 = loans_2011.drop(['Unnamed: 0'], axis=1)"
   ]
  },
  {
   "cell_type": "code",
   "execution_count": 80,
   "metadata": {},
   "outputs": [
    {
     "data": {
      "text/plain": [
       "Index(['loan_amnt', 'int_rate', 'installment', 'emp_length', 'annual_inc',\n",
       "       'loan_status', 'dti', 'delinq_2yrs', 'inq_last_6mths', 'open_acc',\n",
       "       'pub_rec', 'revol_bal', 'revol_util', 'total_acc', 'acc_now_delinq',\n",
       "       'delinq_amnt', 'tax_liens', 'home_ownership_MORTGAGE',\n",
       "       'home_ownership_NONE', 'home_ownership_OTHER', 'home_ownership_OWN',\n",
       "       'home_ownership_RENT', 'verification_status_Not Verified',\n",
       "       'verification_status_Source Verified', 'verification_status_Verified',\n",
       "       'purpose_car', 'purpose_credit_card', 'purpose_debt_consolidation',\n",
       "       'purpose_educational', 'purpose_home_improvement', 'purpose_house',\n",
       "       'purpose_major_purchase', 'purpose_medical', 'purpose_moving',\n",
       "       'purpose_other', 'purpose_renewable_energy', 'purpose_small_business',\n",
       "       'purpose_vacation', 'purpose_wedding', 'term_ 36 months',\n",
       "       'term_ 60 months', 'debt_settlement_flag_N', 'debt_settlement_flag_Y'],\n",
       "      dtype='object')"
      ]
     },
     "execution_count": 80,
     "metadata": {},
     "output_type": "execute_result"
    }
   ],
   "source": [
    "loans_2011.columns"
   ]
  },
  {
   "cell_type": "code",
   "execution_count": 81,
   "metadata": {},
   "outputs": [],
   "source": [
    "loans_2011.to_csv('cleaned_loans_2011.csv', index=False)"
   ]
  },
  {
   "cell_type": "code",
   "execution_count": 82,
   "metadata": {},
   "outputs": [
    {
     "data": {
      "text/html": [
       "<div>\n",
       "<style scoped>\n",
       "    .dataframe tbody tr th:only-of-type {\n",
       "        vertical-align: middle;\n",
       "    }\n",
       "\n",
       "    .dataframe tbody tr th {\n",
       "        vertical-align: top;\n",
       "    }\n",
       "\n",
       "    .dataframe thead th {\n",
       "        text-align: right;\n",
       "    }\n",
       "</style>\n",
       "<table border=\"1\" class=\"dataframe\">\n",
       "  <thead>\n",
       "    <tr style=\"text-align: right;\">\n",
       "      <th></th>\n",
       "      <th>loan_amnt</th>\n",
       "      <th>int_rate</th>\n",
       "      <th>installment</th>\n",
       "      <th>emp_length</th>\n",
       "      <th>annual_inc</th>\n",
       "      <th>loan_status</th>\n",
       "      <th>dti</th>\n",
       "      <th>delinq_2yrs</th>\n",
       "      <th>inq_last_6mths</th>\n",
       "      <th>open_acc</th>\n",
       "      <th>...</th>\n",
       "      <th>purpose_moving</th>\n",
       "      <th>purpose_other</th>\n",
       "      <th>purpose_renewable_energy</th>\n",
       "      <th>purpose_small_business</th>\n",
       "      <th>purpose_vacation</th>\n",
       "      <th>purpose_wedding</th>\n",
       "      <th>term_ 36 months</th>\n",
       "      <th>term_ 60 months</th>\n",
       "      <th>debt_settlement_flag_N</th>\n",
       "      <th>debt_settlement_flag_Y</th>\n",
       "    </tr>\n",
       "  </thead>\n",
       "  <tbody>\n",
       "    <tr>\n",
       "      <th>0</th>\n",
       "      <td>5000.0</td>\n",
       "      <td>10.65</td>\n",
       "      <td>162.87</td>\n",
       "      <td>10</td>\n",
       "      <td>24000.0</td>\n",
       "      <td>1.0</td>\n",
       "      <td>27.65</td>\n",
       "      <td>0.0</td>\n",
       "      <td>1.0</td>\n",
       "      <td>3.0</td>\n",
       "      <td>...</td>\n",
       "      <td>0</td>\n",
       "      <td>0</td>\n",
       "      <td>0</td>\n",
       "      <td>0</td>\n",
       "      <td>0</td>\n",
       "      <td>0</td>\n",
       "      <td>1</td>\n",
       "      <td>0</td>\n",
       "      <td>1</td>\n",
       "      <td>0</td>\n",
       "    </tr>\n",
       "    <tr>\n",
       "      <th>1</th>\n",
       "      <td>2500.0</td>\n",
       "      <td>15.27</td>\n",
       "      <td>59.83</td>\n",
       "      <td>0</td>\n",
       "      <td>30000.0</td>\n",
       "      <td>0.0</td>\n",
       "      <td>1.00</td>\n",
       "      <td>0.0</td>\n",
       "      <td>5.0</td>\n",
       "      <td>3.0</td>\n",
       "      <td>...</td>\n",
       "      <td>0</td>\n",
       "      <td>0</td>\n",
       "      <td>0</td>\n",
       "      <td>0</td>\n",
       "      <td>0</td>\n",
       "      <td>0</td>\n",
       "      <td>0</td>\n",
       "      <td>1</td>\n",
       "      <td>1</td>\n",
       "      <td>0</td>\n",
       "    </tr>\n",
       "    <tr>\n",
       "      <th>2</th>\n",
       "      <td>2400.0</td>\n",
       "      <td>15.96</td>\n",
       "      <td>84.33</td>\n",
       "      <td>10</td>\n",
       "      <td>12252.0</td>\n",
       "      <td>1.0</td>\n",
       "      <td>8.72</td>\n",
       "      <td>0.0</td>\n",
       "      <td>2.0</td>\n",
       "      <td>2.0</td>\n",
       "      <td>...</td>\n",
       "      <td>0</td>\n",
       "      <td>0</td>\n",
       "      <td>0</td>\n",
       "      <td>1</td>\n",
       "      <td>0</td>\n",
       "      <td>0</td>\n",
       "      <td>1</td>\n",
       "      <td>0</td>\n",
       "      <td>1</td>\n",
       "      <td>0</td>\n",
       "    </tr>\n",
       "    <tr>\n",
       "      <th>3</th>\n",
       "      <td>10000.0</td>\n",
       "      <td>13.49</td>\n",
       "      <td>339.31</td>\n",
       "      <td>10</td>\n",
       "      <td>49200.0</td>\n",
       "      <td>1.0</td>\n",
       "      <td>20.00</td>\n",
       "      <td>0.0</td>\n",
       "      <td>1.0</td>\n",
       "      <td>10.0</td>\n",
       "      <td>...</td>\n",
       "      <td>0</td>\n",
       "      <td>1</td>\n",
       "      <td>0</td>\n",
       "      <td>0</td>\n",
       "      <td>0</td>\n",
       "      <td>0</td>\n",
       "      <td>1</td>\n",
       "      <td>0</td>\n",
       "      <td>1</td>\n",
       "      <td>0</td>\n",
       "    </tr>\n",
       "    <tr>\n",
       "      <th>4</th>\n",
       "      <td>3000.0</td>\n",
       "      <td>12.69</td>\n",
       "      <td>67.79</td>\n",
       "      <td>1</td>\n",
       "      <td>80000.0</td>\n",
       "      <td>1.0</td>\n",
       "      <td>17.94</td>\n",
       "      <td>0.0</td>\n",
       "      <td>0.0</td>\n",
       "      <td>15.0</td>\n",
       "      <td>...</td>\n",
       "      <td>0</td>\n",
       "      <td>1</td>\n",
       "      <td>0</td>\n",
       "      <td>0</td>\n",
       "      <td>0</td>\n",
       "      <td>0</td>\n",
       "      <td>0</td>\n",
       "      <td>1</td>\n",
       "      <td>1</td>\n",
       "      <td>0</td>\n",
       "    </tr>\n",
       "  </tbody>\n",
       "</table>\n",
       "<p>5 rows × 43 columns</p>\n",
       "</div>"
      ],
      "text/plain": [
       "   loan_amnt  int_rate  installment  emp_length  annual_inc  loan_status  \\\n",
       "0     5000.0     10.65       162.87          10     24000.0          1.0   \n",
       "1     2500.0     15.27        59.83           0     30000.0          0.0   \n",
       "2     2400.0     15.96        84.33          10     12252.0          1.0   \n",
       "3    10000.0     13.49       339.31          10     49200.0          1.0   \n",
       "4     3000.0     12.69        67.79           1     80000.0          1.0   \n",
       "\n",
       "     dti  delinq_2yrs  inq_last_6mths  open_acc           ...            \\\n",
       "0  27.65          0.0             1.0       3.0           ...             \n",
       "1   1.00          0.0             5.0       3.0           ...             \n",
       "2   8.72          0.0             2.0       2.0           ...             \n",
       "3  20.00          0.0             1.0      10.0           ...             \n",
       "4  17.94          0.0             0.0      15.0           ...             \n",
       "\n",
       "   purpose_moving  purpose_other  purpose_renewable_energy  \\\n",
       "0               0              0                         0   \n",
       "1               0              0                         0   \n",
       "2               0              0                         0   \n",
       "3               0              1                         0   \n",
       "4               0              1                         0   \n",
       "\n",
       "   purpose_small_business  purpose_vacation  purpose_wedding  term_ 36 months  \\\n",
       "0                       0                 0                0                1   \n",
       "1                       0                 0                0                0   \n",
       "2                       1                 0                0                1   \n",
       "3                       0                 0                0                1   \n",
       "4                       0                 0                0                0   \n",
       "\n",
       "   term_ 60 months  debt_settlement_flag_N  debt_settlement_flag_Y  \n",
       "0                0                       1                       0  \n",
       "1                1                       1                       0  \n",
       "2                0                       1                       0  \n",
       "3                0                       1                       0  \n",
       "4                1                       1                       0  \n",
       "\n",
       "[5 rows x 43 columns]"
      ]
     },
     "execution_count": 82,
     "metadata": {},
     "output_type": "execute_result"
    }
   ],
   "source": [
    "loans = pd.read_csv('cleaned_loans_2011.csv')\n",
    "loans.head()"
   ]
  },
  {
   "cell_type": "code",
   "execution_count": 83,
   "metadata": {},
   "outputs": [
    {
     "data": {
      "text/plain": [
       "1.0    35093\n",
       "0.0     6154\n",
       "Name: loan_status, dtype: int64"
      ]
     },
     "execution_count": 83,
     "metadata": {},
     "output_type": "execute_result"
    }
   ],
   "source": [
    "loans.loan_status.value_counts()"
   ]
  },
  {
   "cell_type": "code",
   "execution_count": 84,
   "metadata": {},
   "outputs": [
    {
     "name": "stdout",
     "output_type": "stream",
     "text": [
      "<class 'pandas.core.frame.DataFrame'>\n",
      "RangeIndex: 41247 entries, 0 to 41246\n",
      "Data columns (total 43 columns):\n",
      "loan_amnt                              41247 non-null float64\n",
      "int_rate                               41247 non-null float64\n",
      "installment                            41247 non-null float64\n",
      "emp_length                             41247 non-null int64\n",
      "annual_inc                             41247 non-null float64\n",
      "loan_status                            41247 non-null float64\n",
      "dti                                    41247 non-null float64\n",
      "delinq_2yrs                            41247 non-null float64\n",
      "inq_last_6mths                         41247 non-null float64\n",
      "open_acc                               41247 non-null float64\n",
      "pub_rec                                41247 non-null float64\n",
      "revol_bal                              41247 non-null float64\n",
      "revol_util                             41247 non-null float64\n",
      "total_acc                              41247 non-null float64\n",
      "acc_now_delinq                         41247 non-null float64\n",
      "delinq_amnt                            41247 non-null float64\n",
      "tax_liens                              41247 non-null float64\n",
      "home_ownership_MORTGAGE                41247 non-null int64\n",
      "home_ownership_NONE                    41247 non-null int64\n",
      "home_ownership_OTHER                   41247 non-null int64\n",
      "home_ownership_OWN                     41247 non-null int64\n",
      "home_ownership_RENT                    41247 non-null int64\n",
      "verification_status_Not Verified       41247 non-null int64\n",
      "verification_status_Source Verified    41247 non-null int64\n",
      "verification_status_Verified           41247 non-null int64\n",
      "purpose_car                            41247 non-null int64\n",
      "purpose_credit_card                    41247 non-null int64\n",
      "purpose_debt_consolidation             41247 non-null int64\n",
      "purpose_educational                    41247 non-null int64\n",
      "purpose_home_improvement               41247 non-null int64\n",
      "purpose_house                          41247 non-null int64\n",
      "purpose_major_purchase                 41247 non-null int64\n",
      "purpose_medical                        41247 non-null int64\n",
      "purpose_moving                         41247 non-null int64\n",
      "purpose_other                          41247 non-null int64\n",
      "purpose_renewable_energy               41247 non-null int64\n",
      "purpose_small_business                 41247 non-null int64\n",
      "purpose_vacation                       41247 non-null int64\n",
      "purpose_wedding                        41247 non-null int64\n",
      "term_ 36 months                        41247 non-null int64\n",
      "term_ 60 months                        41247 non-null int64\n",
      "debt_settlement_flag_N                 41247 non-null int64\n",
      "debt_settlement_flag_Y                 41247 non-null int64\n",
      "dtypes: float64(16), int64(27)\n",
      "memory usage: 13.5 MB\n",
      "None\n"
     ]
    }
   ],
   "source": [
    "print(loans.info())"
   ]
  },
  {
   "cell_type": "code",
   "execution_count": 86,
   "metadata": {},
   "outputs": [
    {
     "name": "stdout",
     "output_type": "stream",
     "text": [
      "0.9992021200809278\n",
      "0.9988625284367891\n",
      "0     1.0\n",
      "1     1.0\n",
      "2     1.0\n",
      "3     1.0\n",
      "4     1.0\n",
      "5     1.0\n",
      "6     1.0\n",
      "7     1.0\n",
      "8     1.0\n",
      "9     1.0\n",
      "10    1.0\n",
      "11    1.0\n",
      "12    1.0\n",
      "13    1.0\n",
      "14    1.0\n",
      "15    1.0\n",
      "16    1.0\n",
      "17    1.0\n",
      "18    1.0\n",
      "19    1.0\n",
      "dtype: float64\n"
     ]
    }
   ],
   "source": [
    "from sklearn.linear_model import LogisticRegression\n",
    "from sklearn.cross_validation import cross_val_predict, KFold\n",
    "lr = LogisticRegression()\n",
    "cols = loans.columns\n",
    "train_cols = cols.drop('loan_status')\n",
    "features = loans[train_cols]\n",
    "target = loans['loan_status']\n",
    "kf = KFold(features.shape[0], random_state=1)\n",
    "predictions = cross_val_predict(lr, features, target, cv=kf)\n",
    "predictions = pd.Series(predictions)\n",
    "\n",
    "# False positives.\n",
    "fp_filter = (predictions == 1) & (loans[\"loan_status\"] == 0)\n",
    "fp = len(predictions[fp_filter])\n",
    "\n",
    "# True positives.\n",
    "tp_filter = (predictions == 1) & (loans[\"loan_status\"] == 1)\n",
    "tp = len(predictions[tp_filter])\n",
    "\n",
    "# False negatives.\n",
    "fn_filter = (predictions == 0) & (loans[\"loan_status\"] == 1)\n",
    "fn = len(predictions[fn_filter])\n",
    "\n",
    "# True negatives\n",
    "tn_filter = (predictions == 0) & (loans[\"loan_status\"] == 0)\n",
    "tn = len(predictions[tn_filter])\n",
    "\n",
    "# Rates\n",
    "tpr = tp / float((tp + fn))\n",
    "fpr = fp / float((fp + tn))\n",
    "\n",
    "print(tpr)\n",
    "print(fpr)\n",
    "print(predictions[:20])"
   ]
  },
  {
   "cell_type": "code",
   "execution_count": 88,
   "metadata": {},
   "outputs": [
    {
     "name": "stdout",
     "output_type": "stream",
     "text": [
      "0.6786823583050751\n",
      "0.39714007149821257\n"
     ]
    }
   ],
   "source": [
    "lr = LogisticRegression(class_weight='balanced')\n",
    "kf = KFold(features.shape[0], random_state=1)\n",
    "predictions = cross_val_predict(lr, features, target, cv=kf)\n",
    "predictions = pd.Series(predictions)\n",
    "\n",
    "# False positives.\n",
    "fp_filter = (predictions == 1) & (loans[\"loan_status\"] == 0)\n",
    "fp = len(predictions[fp_filter])\n",
    "\n",
    "# True positives.\n",
    "tp_filter = (predictions == 1) & (loans[\"loan_status\"] == 1)\n",
    "tp = len(predictions[tp_filter])\n",
    "\n",
    "# False negatives.\n",
    "fn_filter = (predictions == 0) & (loans[\"loan_status\"] == 1)\n",
    "fn = len(predictions[fn_filter])\n",
    "\n",
    "# True negatives\n",
    "tn_filter = (predictions == 0) & (loans[\"loan_status\"] == 0)\n",
    "tn = len(predictions[tn_filter])\n",
    "\n",
    "# Rates\n",
    "tpr = tp / float((tp + fn))\n",
    "fpr = fp / float((fp + tn))\n",
    "\n",
    "print(tpr)\n",
    "print(fpr)"
   ]
  },
  {
   "cell_type": "code",
   "execution_count": 92,
   "metadata": {},
   "outputs": [
    {
     "name": "stdout",
     "output_type": "stream",
     "text": [
      "0.724275496537771\n",
      "0.4601884952876178\n"
     ]
    }
   ],
   "source": [
    "penalty = {\n",
    "    0: 5,\n",
    "    1: 1\n",
    "}\n",
    "\n",
    "lr = LogisticRegression(class_weight=penalty)\n",
    "kf = KFold(features.shape[0], random_state=1)\n",
    "predictions = cross_val_predict(lr, features, target, cv=kf)\n",
    "predictions = pd.Series(predictions)\n",
    "\n",
    "# False positives.\n",
    "fp_filter = (predictions == 1) & (loans[\"loan_status\"] == 0)\n",
    "fp = len(predictions[fp_filter])\n",
    "\n",
    "# True positives.\n",
    "tp_filter = (predictions == 1) & (loans[\"loan_status\"] == 1)\n",
    "tp = len(predictions[tp_filter])\n",
    "\n",
    "# False negatives.\n",
    "fn_filter = (predictions == 0) & (loans[\"loan_status\"] == 1)\n",
    "fn = len(predictions[fn_filter])\n",
    "\n",
    "# True negatives\n",
    "tn_filter = (predictions == 0) & (loans[\"loan_status\"] == 0)\n",
    "tn = len(predictions[tn_filter])\n",
    "\n",
    "# Rates\n",
    "tpr = tp / float((tp + fn))\n",
    "fpr = fp / float((fp + tn))\n",
    "\n",
    "print(tpr)\n",
    "print(fpr)"
   ]
  },
  {
   "cell_type": "code",
   "execution_count": 96,
   "metadata": {},
   "outputs": [
    {
     "name": "stdout",
     "output_type": "stream",
     "text": [
      "0.9763770552531844\n",
      "0.9224894377640559\n"
     ]
    }
   ],
   "source": [
    "from sklearn.ensemble import RandomForestClassifier\n",
    "rf = RandomForestClassifier(n_estimators=10,class_weight='balanced', random_state=1)\n",
    "#print help(RandomForestClassifier)\n",
    "kf = KFold(features.shape[0], random_state=1)\n",
    "predictions = cross_val_predict(rf, features, target, cv=kf)\n",
    "predictions = pd.Series(predictions)\n",
    "\n",
    "# False positives.\n",
    "fp_filter = (predictions == 1) & (loans[\"loan_status\"] == 0)\n",
    "fp = len(predictions[fp_filter])\n",
    "\n",
    "# True positives.\n",
    "tp_filter = (predictions == 1) & (loans[\"loan_status\"] == 1)\n",
    "tp = len(predictions[tp_filter])\n",
    "\n",
    "# False negatives.\n",
    "fn_filter = (predictions == 0) & (loans[\"loan_status\"] == 1)\n",
    "fn = len(predictions[fn_filter])\n",
    "\n",
    "# True negatives\n",
    "tn_filter = (predictions == 0) & (loans[\"loan_status\"] == 0)\n",
    "tn = len(predictions[tn_filter])\n",
    "\n",
    "# Rates\n",
    "tpr = tp / float((tp + fn))\n",
    "fpr = fp / float((fp + tn))\n",
    "\n",
    "print(tpr)\n",
    "print(fpr)"
   ]
  },
  {
   "cell_type": "code",
   "execution_count": null,
   "metadata": {},
   "outputs": [],
   "source": []
  }
 ],
 "metadata": {
  "kernelspec": {
   "display_name": "Python 3",
   "language": "python",
   "name": "python3"
  },
  "language_info": {
   "codemirror_mode": {
    "name": "ipython",
    "version": 3
   },
   "file_extension": ".py",
   "mimetype": "text/x-python",
   "name": "python",
   "nbconvert_exporter": "python",
   "pygments_lexer": "ipython3",
   "version": "3.5.2"
  }
 },
 "nbformat": 4,
 "nbformat_minor": 2
}
