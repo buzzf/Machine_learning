{
 "cells": [
  {
   "cell_type": "code",
   "execution_count": 10,
   "metadata": {},
   "outputs": [],
   "source": [
    "import pandas as pd\n",
    "import matplotlib.pyplot as plt\n",
    "import numpy as np\n",
    "\n",
    "%matplotlib inline"
   ]
  },
  {
   "cell_type": "code",
   "execution_count": 11,
   "metadata": {},
   "outputs": [
    {
     "data": {
      "text/html": [
       "<div>\n",
       "<style scoped>\n",
       "    .dataframe tbody tr th:only-of-type {\n",
       "        vertical-align: middle;\n",
       "    }\n",
       "\n",
       "    .dataframe tbody tr th {\n",
       "        vertical-align: top;\n",
       "    }\n",
       "\n",
       "    .dataframe thead th {\n",
       "        text-align: right;\n",
       "    }\n",
       "</style>\n",
       "<table border=\"1\" class=\"dataframe\">\n",
       "  <thead>\n",
       "    <tr style=\"text-align: right;\">\n",
       "      <th></th>\n",
       "      <th>Time</th>\n",
       "      <th>V1</th>\n",
       "      <th>V2</th>\n",
       "      <th>V3</th>\n",
       "      <th>V4</th>\n",
       "      <th>V5</th>\n",
       "      <th>V6</th>\n",
       "      <th>V7</th>\n",
       "      <th>V8</th>\n",
       "      <th>V9</th>\n",
       "      <th>...</th>\n",
       "      <th>V21</th>\n",
       "      <th>V22</th>\n",
       "      <th>V23</th>\n",
       "      <th>V24</th>\n",
       "      <th>V25</th>\n",
       "      <th>V26</th>\n",
       "      <th>V27</th>\n",
       "      <th>V28</th>\n",
       "      <th>Amount</th>\n",
       "      <th>Class</th>\n",
       "    </tr>\n",
       "  </thead>\n",
       "  <tbody>\n",
       "    <tr>\n",
       "      <th>0</th>\n",
       "      <td>0.0</td>\n",
       "      <td>-1.359807</td>\n",
       "      <td>-0.072781</td>\n",
       "      <td>2.536347</td>\n",
       "      <td>1.378155</td>\n",
       "      <td>-0.338321</td>\n",
       "      <td>0.462388</td>\n",
       "      <td>0.239599</td>\n",
       "      <td>0.098698</td>\n",
       "      <td>0.363787</td>\n",
       "      <td>...</td>\n",
       "      <td>-0.018307</td>\n",
       "      <td>0.277838</td>\n",
       "      <td>-0.110474</td>\n",
       "      <td>0.066928</td>\n",
       "      <td>0.128539</td>\n",
       "      <td>-0.189115</td>\n",
       "      <td>0.133558</td>\n",
       "      <td>-0.021053</td>\n",
       "      <td>149.62</td>\n",
       "      <td>0</td>\n",
       "    </tr>\n",
       "    <tr>\n",
       "      <th>1</th>\n",
       "      <td>0.0</td>\n",
       "      <td>1.191857</td>\n",
       "      <td>0.266151</td>\n",
       "      <td>0.166480</td>\n",
       "      <td>0.448154</td>\n",
       "      <td>0.060018</td>\n",
       "      <td>-0.082361</td>\n",
       "      <td>-0.078803</td>\n",
       "      <td>0.085102</td>\n",
       "      <td>-0.255425</td>\n",
       "      <td>...</td>\n",
       "      <td>-0.225775</td>\n",
       "      <td>-0.638672</td>\n",
       "      <td>0.101288</td>\n",
       "      <td>-0.339846</td>\n",
       "      <td>0.167170</td>\n",
       "      <td>0.125895</td>\n",
       "      <td>-0.008983</td>\n",
       "      <td>0.014724</td>\n",
       "      <td>2.69</td>\n",
       "      <td>0</td>\n",
       "    </tr>\n",
       "    <tr>\n",
       "      <th>2</th>\n",
       "      <td>1.0</td>\n",
       "      <td>-1.358354</td>\n",
       "      <td>-1.340163</td>\n",
       "      <td>1.773209</td>\n",
       "      <td>0.379780</td>\n",
       "      <td>-0.503198</td>\n",
       "      <td>1.800499</td>\n",
       "      <td>0.791461</td>\n",
       "      <td>0.247676</td>\n",
       "      <td>-1.514654</td>\n",
       "      <td>...</td>\n",
       "      <td>0.247998</td>\n",
       "      <td>0.771679</td>\n",
       "      <td>0.909412</td>\n",
       "      <td>-0.689281</td>\n",
       "      <td>-0.327642</td>\n",
       "      <td>-0.139097</td>\n",
       "      <td>-0.055353</td>\n",
       "      <td>-0.059752</td>\n",
       "      <td>378.66</td>\n",
       "      <td>0</td>\n",
       "    </tr>\n",
       "    <tr>\n",
       "      <th>3</th>\n",
       "      <td>1.0</td>\n",
       "      <td>-0.966272</td>\n",
       "      <td>-0.185226</td>\n",
       "      <td>1.792993</td>\n",
       "      <td>-0.863291</td>\n",
       "      <td>-0.010309</td>\n",
       "      <td>1.247203</td>\n",
       "      <td>0.237609</td>\n",
       "      <td>0.377436</td>\n",
       "      <td>-1.387024</td>\n",
       "      <td>...</td>\n",
       "      <td>-0.108300</td>\n",
       "      <td>0.005274</td>\n",
       "      <td>-0.190321</td>\n",
       "      <td>-1.175575</td>\n",
       "      <td>0.647376</td>\n",
       "      <td>-0.221929</td>\n",
       "      <td>0.062723</td>\n",
       "      <td>0.061458</td>\n",
       "      <td>123.50</td>\n",
       "      <td>0</td>\n",
       "    </tr>\n",
       "    <tr>\n",
       "      <th>4</th>\n",
       "      <td>2.0</td>\n",
       "      <td>-1.158233</td>\n",
       "      <td>0.877737</td>\n",
       "      <td>1.548718</td>\n",
       "      <td>0.403034</td>\n",
       "      <td>-0.407193</td>\n",
       "      <td>0.095921</td>\n",
       "      <td>0.592941</td>\n",
       "      <td>-0.270533</td>\n",
       "      <td>0.817739</td>\n",
       "      <td>...</td>\n",
       "      <td>-0.009431</td>\n",
       "      <td>0.798278</td>\n",
       "      <td>-0.137458</td>\n",
       "      <td>0.141267</td>\n",
       "      <td>-0.206010</td>\n",
       "      <td>0.502292</td>\n",
       "      <td>0.219422</td>\n",
       "      <td>0.215153</td>\n",
       "      <td>69.99</td>\n",
       "      <td>0</td>\n",
       "    </tr>\n",
       "  </tbody>\n",
       "</table>\n",
       "<p>5 rows × 31 columns</p>\n",
       "</div>"
      ],
      "text/plain": [
       "   Time        V1        V2        V3        V4        V5        V6        V7  \\\n",
       "0   0.0 -1.359807 -0.072781  2.536347  1.378155 -0.338321  0.462388  0.239599   \n",
       "1   0.0  1.191857  0.266151  0.166480  0.448154  0.060018 -0.082361 -0.078803   \n",
       "2   1.0 -1.358354 -1.340163  1.773209  0.379780 -0.503198  1.800499  0.791461   \n",
       "3   1.0 -0.966272 -0.185226  1.792993 -0.863291 -0.010309  1.247203  0.237609   \n",
       "4   2.0 -1.158233  0.877737  1.548718  0.403034 -0.407193  0.095921  0.592941   \n",
       "\n",
       "         V8        V9  ...         V21       V22       V23       V24  \\\n",
       "0  0.098698  0.363787  ...   -0.018307  0.277838 -0.110474  0.066928   \n",
       "1  0.085102 -0.255425  ...   -0.225775 -0.638672  0.101288 -0.339846   \n",
       "2  0.247676 -1.514654  ...    0.247998  0.771679  0.909412 -0.689281   \n",
       "3  0.377436 -1.387024  ...   -0.108300  0.005274 -0.190321 -1.175575   \n",
       "4 -0.270533  0.817739  ...   -0.009431  0.798278 -0.137458  0.141267   \n",
       "\n",
       "        V25       V26       V27       V28  Amount  Class  \n",
       "0  0.128539 -0.189115  0.133558 -0.021053  149.62      0  \n",
       "1  0.167170  0.125895 -0.008983  0.014724    2.69      0  \n",
       "2 -0.327642 -0.139097 -0.055353 -0.059752  378.66      0  \n",
       "3  0.647376 -0.221929  0.062723  0.061458  123.50      0  \n",
       "4 -0.206010  0.502292  0.219422  0.215153   69.99      0  \n",
       "\n",
       "[5 rows x 31 columns]"
      ]
     },
     "execution_count": 11,
     "metadata": {},
     "output_type": "execute_result"
    }
   ],
   "source": [
    "data = pd.read_csv('逻辑回归-信用卡欺诈检测/creditcard.csv')\n",
    "data.head()"
   ]
  },
  {
   "cell_type": "code",
   "execution_count": 12,
   "metadata": {},
   "outputs": [
    {
     "data": {
      "text/plain": [
       "(284807, 31)"
      ]
     },
     "execution_count": 12,
     "metadata": {},
     "output_type": "execute_result"
    }
   ],
   "source": [
    "data.shape"
   ]
  },
  {
   "cell_type": "code",
   "execution_count": 13,
   "metadata": {},
   "outputs": [
    {
     "name": "stdout",
     "output_type": "stream",
     "text": [
      "0    284315\n",
      "1       492\n",
      "Name: Class, dtype: int64\n"
     ]
    },
    {
     "data": {
      "text/plain": [
       "Text(0,0.5,'Frequency')"
      ]
     },
     "execution_count": 13,
     "metadata": {},
     "output_type": "execute_result"
    },
    {
     "data": {
      "image/png": "[encoded data removed]",
      "text/plain": [
       "<matplotlib.figure.Figure at 0x7fb7b8c8ddd8>"
      ]
     },
     "metadata": {},
     "output_type": "display_data"
    }
   ],
   "source": [
    "count_classes = pd.value_counts(data['Class'], sort=True).sort_index()\n",
    "print(count_classes)\n",
    "count_classes.plot(kind = 'bar')\n",
    "plt.title(\"Fraud class histogram\")\n",
    "plt.xlabel(\"Class\")\n",
    "plt.ylabel(\"Frequency\")"
   ]
  },
  {
   "cell_type": "code",
   "execution_count": 14,
   "metadata": {},
   "outputs": [
    {
     "data": {
      "text/html": [
       "<div>\n",
       "<style scoped>\n",
       "    .dataframe tbody tr th:only-of-type {\n",
       "        vertical-align: middle;\n",
       "    }\n",
       "\n",
       "    .dataframe tbody tr th {\n",
       "        vertical-align: top;\n",
       "    }\n",
       "\n",
       "    .dataframe thead th {\n",
       "        text-align: right;\n",
       "    }\n",
       "</style>\n",
       "<table border=\"1\" class=\"dataframe\">\n",
       "  <thead>\n",
       "    <tr style=\"text-align: right;\">\n",
       "      <th></th>\n",
       "      <th>V1</th>\n",
       "      <th>V2</th>\n",
       "      <th>V3</th>\n",
       "      <th>V4</th>\n",
       "      <th>V5</th>\n",
       "      <th>V6</th>\n",
       "      <th>V7</th>\n",
       "      <th>V8</th>\n",
       "      <th>V9</th>\n",
       "      <th>V10</th>\n",
       "      <th>...</th>\n",
       "      <th>V21</th>\n",
       "      <th>V22</th>\n",
       "      <th>V23</th>\n",
       "      <th>V24</th>\n",
       "      <th>V25</th>\n",
       "      <th>V26</th>\n",
       "      <th>V27</th>\n",
       "      <th>V28</th>\n",
       "      <th>Class</th>\n",
       "      <th>normAmount</th>\n",
       "    </tr>\n",
       "  </thead>\n",
       "  <tbody>\n",
       "    <tr>\n",
       "      <th>0</th>\n",
       "      <td>-1.359807</td>\n",
       "      <td>-0.072781</td>\n",
       "      <td>2.536347</td>\n",
       "      <td>1.378155</td>\n",
       "      <td>-0.338321</td>\n",
       "      <td>0.462388</td>\n",
       "      <td>0.239599</td>\n",
       "      <td>0.098698</td>\n",
       "      <td>0.363787</td>\n",
       "      <td>0.090794</td>\n",
       "      <td>...</td>\n",
       "      <td>-0.018307</td>\n",
       "      <td>0.277838</td>\n",
       "      <td>-0.110474</td>\n",
       "      <td>0.066928</td>\n",
       "      <td>0.128539</td>\n",
       "      <td>-0.189115</td>\n",
       "      <td>0.133558</td>\n",
       "      <td>-0.021053</td>\n",
       "      <td>0</td>\n",
       "      <td>0.244964</td>\n",
       "    </tr>\n",
       "    <tr>\n",
       "      <th>1</th>\n",
       "      <td>1.191857</td>\n",
       "      <td>0.266151</td>\n",
       "      <td>0.166480</td>\n",
       "      <td>0.448154</td>\n",
       "      <td>0.060018</td>\n",
       "      <td>-0.082361</td>\n",
       "      <td>-0.078803</td>\n",
       "      <td>0.085102</td>\n",
       "      <td>-0.255425</td>\n",
       "      <td>-0.166974</td>\n",
       "      <td>...</td>\n",
       "      <td>-0.225775</td>\n",
       "      <td>-0.638672</td>\n",
       "      <td>0.101288</td>\n",
       "      <td>-0.339846</td>\n",
       "      <td>0.167170</td>\n",
       "      <td>0.125895</td>\n",
       "      <td>-0.008983</td>\n",
       "      <td>0.014724</td>\n",
       "      <td>0</td>\n",
       "      <td>-0.342475</td>\n",
       "    </tr>\n",
       "    <tr>\n",
       "      <th>2</th>\n",
       "      <td>-1.358354</td>\n",
       "      <td>-1.340163</td>\n",
       "      <td>1.773209</td>\n",
       "      <td>0.379780</td>\n",
       "      <td>-0.503198</td>\n",
       "      <td>1.800499</td>\n",
       "      <td>0.791461</td>\n",
       "      <td>0.247676</td>\n",
       "      <td>-1.514654</td>\n",
       "      <td>0.207643</td>\n",
       "      <td>...</td>\n",
       "      <td>0.247998</td>\n",
       "      <td>0.771679</td>\n",
       "      <td>0.909412</td>\n",
       "      <td>-0.689281</td>\n",
       "      <td>-0.327642</td>\n",
       "      <td>-0.139097</td>\n",
       "      <td>-0.055353</td>\n",
       "      <td>-0.059752</td>\n",
       "      <td>0</td>\n",
       "      <td>1.160686</td>\n",
       "    </tr>\n",
       "    <tr>\n",
       "      <th>3</th>\n",
       "      <td>-0.966272</td>\n",
       "      <td>-0.185226</td>\n",
       "      <td>1.792993</td>\n",
       "      <td>-0.863291</td>\n",
       "      <td>-0.010309</td>\n",
       "      <td>1.247203</td>\n",
       "      <td>0.237609</td>\n",
       "      <td>0.377436</td>\n",
       "      <td>-1.387024</td>\n",
       "      <td>-0.054952</td>\n",
       "      <td>...</td>\n",
       "      <td>-0.108300</td>\n",
       "      <td>0.005274</td>\n",
       "      <td>-0.190321</td>\n",
       "      <td>-1.175575</td>\n",
       "      <td>0.647376</td>\n",
       "      <td>-0.221929</td>\n",
       "      <td>0.062723</td>\n",
       "      <td>0.061458</td>\n",
       "      <td>0</td>\n",
       "      <td>0.140534</td>\n",
       "    </tr>\n",
       "    <tr>\n",
       "      <th>4</th>\n",
       "      <td>-1.158233</td>\n",
       "      <td>0.877737</td>\n",
       "      <td>1.548718</td>\n",
       "      <td>0.403034</td>\n",
       "      <td>-0.407193</td>\n",
       "      <td>0.095921</td>\n",
       "      <td>0.592941</td>\n",
       "      <td>-0.270533</td>\n",
       "      <td>0.817739</td>\n",
       "      <td>0.753074</td>\n",
       "      <td>...</td>\n",
       "      <td>-0.009431</td>\n",
       "      <td>0.798278</td>\n",
       "      <td>-0.137458</td>\n",
       "      <td>0.141267</td>\n",
       "      <td>-0.206010</td>\n",
       "      <td>0.502292</td>\n",
       "      <td>0.219422</td>\n",
       "      <td>0.215153</td>\n",
       "      <td>0</td>\n",
       "      <td>-0.073403</td>\n",
       "    </tr>\n",
       "  </tbody>\n",
       "</table>\n",
       "<p>5 rows × 30 columns</p>\n",
       "</div>"
      ],
      "text/plain": [
       "         V1        V2        V3        V4        V5        V6        V7  \\\n",
       "0 -1.359807 -0.072781  2.536347  1.378155 -0.338321  0.462388  0.239599   \n",
       "1  1.191857  0.266151  0.166480  0.448154  0.060018 -0.082361 -0.078803   \n",
       "2 -1.358354 -1.340163  1.773209  0.379780 -0.503198  1.800499  0.791461   \n",
       "3 -0.966272 -0.185226  1.792993 -0.863291 -0.010309  1.247203  0.237609   \n",
       "4 -1.158233  0.877737  1.548718  0.403034 -0.407193  0.095921  0.592941   \n",
       "\n",
       "         V8        V9       V10     ...           V21       V22       V23  \\\n",
       "0  0.098698  0.363787  0.090794     ...     -0.018307  0.277838 -0.110474   \n",
       "1  0.085102 -0.255425 -0.166974     ...     -0.225775 -0.638672  0.101288   \n",
       "2  0.247676 -1.514654  0.207643     ...      0.247998  0.771679  0.909412   \n",
       "3  0.377436 -1.387024 -0.054952     ...     -0.108300  0.005274 -0.190321   \n",
       "4 -0.270533  0.817739  0.753074     ...     -0.009431  0.798278 -0.137458   \n",
       "\n",
       "        V24       V25       V26       V27       V28  Class  normAmount  \n",
       "0  0.066928  0.128539 -0.189115  0.133558 -0.021053      0    0.244964  \n",
       "1 -0.339846  0.167170  0.125895 -0.008983  0.014724      0   -0.342475  \n",
       "2 -0.689281 -0.327642 -0.139097 -0.055353 -0.059752      0    1.160686  \n",
       "3 -1.175575  0.647376 -0.221929  0.062723  0.061458      0    0.140534  \n",
       "4  0.141267 -0.206010  0.502292  0.219422  0.215153      0   -0.073403  \n",
       "\n",
       "[5 rows x 30 columns]"
      ]
     },
     "execution_count": 14,
     "metadata": {},
     "output_type": "execute_result"
    }
   ],
   "source": [
    "from sklearn.preprocessing import StandardScaler\n",
    "data['normAmount'] = StandardScaler().fit_transform(data['Amount'].values.reshape(-1,1))\n",
    "data = data.drop(['Time','Amount'],axis=1)\n",
    "data.head()"
   ]
  },
  {
   "cell_type": "code",
   "execution_count": 19,
   "metadata": {
    "scrolled": true
   },
   "outputs": [
    {
     "data": {
      "text/plain": [
       "array([   541,    623,   4920,   6108,   6329,   6331,   6334,   6336,\n",
       "         6338,   6427,   6446,   6472,   6529,   6609,   6641,   6717,\n",
       "         6719,   6734,   6774,   6820,   6870,   6882,   6899,   6903,\n",
       "         6971,   8296,   8312,   8335,   8615,   8617,   8842,   8845,\n",
       "         8972,   9035,   9179,   9252,   9487,   9509,  10204,  10484,\n",
       "        10497,  10498,  10568,  10630,  10690,  10801,  10891,  10897,\n",
       "        11343,  11710,  11841,  11880,  12070,  12108,  12261,  12369,\n",
       "        14104,  14170,  14197,  14211,  14338,  15166,  15204,  15225,\n",
       "        15451,  15476,  15506,  15539,  15566,  15736,  15751,  15781,\n",
       "        15810,  16415,  16780,  16863,  17317,  17366,  17407,  17453,\n",
       "        17480,  18466,  18472,  18773,  18809,  20198,  23308,  23422,\n",
       "        26802,  27362,  27627,  27738,  27749,  29687,  30100,  30314,\n",
       "        30384,  30398,  30442,  30473,  30496,  31002,  33276,  39183,\n",
       "        40085,  40525,  41395,  41569,  41943,  42007,  42009,  42473,\n",
       "        42528,  42549,  42590,  42609,  42635,  42674,  42696,  42700,\n",
       "        42741,  42756,  42769,  42784,  42856,  42887,  42936,  42945,\n",
       "        42958,  43061,  43160,  43204,  43428,  43624,  43681,  43773,\n",
       "        44001,  44091,  44223,  44270,  44556,  45203,  45732,  46909,\n",
       "        46918,  46998,  47802,  48094,  50211,  50537,  52466,  52521,\n",
       "        52584,  53591,  53794,  55401,  56703,  57248,  57470,  57615,\n",
       "        58422,  58761,  59539,  61787,  63421,  63634,  64329,  64411,\n",
       "        64460,  68067,  68320,  68522,  68633,  69498,  69980,  70141,\n",
       "        70589,  72757,  73784,  73857,  74496,  74507,  74794,  75511,\n",
       "        76555,  76609,  76929,  77099,  77348,  77387,  77682,  79525,\n",
       "        79536,  79835,  79874,  79883,  80760,  81186,  81609,  82400,\n",
       "        83053,  83297,  83417,  84543,  86155,  87354,  88258,  88307,\n",
       "        88876,  88897,  89190,  91671,  92777,  93424,  93486,  93788,\n",
       "        94218,  95534,  95597,  96341,  96789,  96994,  99506, 100623,\n",
       "       101509, 102441, 102442, 102443, 102444, 102445, 102446, 102782,\n",
       "       105178, 106679, 106998, 107067, 107637, 108258, 108708, 111690,\n",
       "       112840, 114271, 116139, 116404, 118308, 119714, 119781, 120505,\n",
       "       120837, 122479, 123141, 123201, 123238, 123270, 123301, 124036,\n",
       "       124087, 124115, 124176, 125342, 128479, 131272, 135718, 137705,\n",
       "       140786, 141257, 141258, 141259, 141260, 142405, 142557, 143188,\n",
       "       143333, 143334, 143335, 143336, 143728, 143731, 144104, 144108,\n",
       "       144754, 145800, 146790, 147548, 147605, 149145, 149357, 149522,\n",
       "       149577, 149587, 149600, 149869, 149874, 150601, 150644, 150647,\n",
       "       150654, 150660, 150661, 150662, 150663, 150665, 150666, 150667,\n",
       "       150668, 150669, 150677, 150678, 150679, 150680, 150684, 150687,\n",
       "       150692, 150697, 150715, 150925, 151006, 151007, 151008, 151009,\n",
       "       151011, 151103, 151196, 151462, 151519, 151730, 151807, 152019,\n",
       "       152223, 152295, 153823, 153835, 153885, 154234, 154286, 154371,\n",
       "       154454, 154587, 154633, 154668, 154670, 154676, 154684, 154693,\n",
       "       154694, 154697, 154718, 154719, 154720, 154960, 156988, 156990,\n",
       "       157585, 157868, 157871, 157918, 163149, 163586, 167184, 167305,\n",
       "       172787, 176049, 177195, 178208, 181966, 182992, 183106, 184379,\n",
       "       189587, 189701, 189878, 190368, 191074, 191267, 191359, 191544,\n",
       "       191690, 192382, 192529, 192584, 192687, 195383, 197586, 198868,\n",
       "       199896, 201098, 201601, 203324, 203328, 203700, 204064, 204079,\n",
       "       204503, 208651, 212516, 212644, 213092, 213116, 214662, 214775,\n",
       "       215132, 215953, 215984, 218442, 219025, 219892, 220725, 221018,\n",
       "       221041, 222133, 222419, 223366, 223572, 223578, 223618, 226814,\n",
       "       226877, 229712, 229730, 230076, 230476, 231978, 233258, 234574,\n",
       "       234632, 234633, 234705, 235616, 235634, 235644, 237107, 237426,\n",
       "       238222, 238366, 238466, 239499, 239501, 240222, 241254, 241445,\n",
       "       243393, 243547, 243699, 243749, 243848, 244004, 244333, 245347,\n",
       "       245556, 247673, 247995, 248296, 248971, 249167, 249239, 249607,\n",
       "       249828, 249963, 250761, 251477, 251866, 251881, 251891, 251904,\n",
       "       252124, 252774, 254344, 254395, 255403, 255556, 258403, 261056,\n",
       "       261473, 261925, 262560, 262826, 263080, 263274, 263324, 263877,\n",
       "       268375, 272521, 274382, 274475, 275992, 276071, 276864, 279863,\n",
       "       280143, 280149, 281144, 281674])"
      ]
     },
     "execution_count": 19,
     "metadata": {},
     "output_type": "execute_result"
    }
   ],
   "source": [
    "X = data.iloc[:, data.columns != 'Class']\n",
    "y = data.iloc[:, data.columns == 'Class']\n",
    "number_records_fraud = len(data[data.Class == 1])\n",
    "fraud_indices = np.array(data[data.Class == 1].index)\n",
    "fraud_indices"
   ]
  },
  {
   "cell_type": "code",
   "execution_count": 21,
   "metadata": {},
   "outputs": [
    {
     "data": {
      "text/plain": [
       "Int64Index([     0,      1,      2,      3,      4,      5,      6,      7,\n",
       "                 8,      9,\n",
       "            ...\n",
       "            284797, 284798, 284799, 284800, 284801, 284802, 284803, 284804,\n",
       "            284805, 284806],\n",
       "           dtype='int64', length=284315)"
      ]
     },
     "execution_count": 21,
     "metadata": {},
     "output_type": "execute_result"
    }
   ],
   "source": [
    "normal_indices = data[data.Class == 0].index\n",
    "normal_indices"
   ]
  },
  {
   "cell_type": "code",
   "execution_count": 22,
   "metadata": {
    "scrolled": true
   },
   "outputs": [
    {
     "data": {
      "text/plain": [
       "array([247683, 133393,  92857,  35849, 211088, 172599,  42231, 125980,\n",
       "       190835,  49233, 256266,  21958, 210230, 252645, 216618, 240213,\n",
       "       203622, 214111, 164327,  71101, 177954, 213575, 102165,  14154,\n",
       "       124953, 172327,  20045, 101511,  88461, 199527, 235083, 275170,\n",
       "       187816, 162031,  62423, 242615, 172995, 117761,   4466, 113032,\n",
       "       168384,  13812,  15355, 183746,  75377, 244293, 147831, 111661,\n",
       "        76933, 172183, 226250, 282799, 279941, 183373,  73285, 100248,\n",
       "       178818,  23377, 107629, 216367,  45977, 163907, 243167, 274410,\n",
       "        22312,  89822,  77245,    817, 132324, 141350, 188447,  67607,\n",
       "       224877, 118165,  46366, 189348,  53988, 194264,  35183,  36086,\n",
       "        82056, 179008,  23849,  41301, 284352,  92638,  94990,  26111,\n",
       "        38208, 122094, 110739, 278175,  61633,   9446, 101575, 221141,\n",
       "        30296, 271204, 263002, 124173, 186906, 282987,  98988, 215104,\n",
       "       133727,  88730, 235920,  20533, 226429, 116660,  39974, 171267,\n",
       "       258949,  16932, 124380,  43546, 173425, 244072, 124547, 277368,\n",
       "       136755,  74364,  59068,  19062, 161615, 274646,  91840, 277715,\n",
       "       112252,  54400,  23095,  75244,  86294,  12852, 101853,  43596,\n",
       "       137901, 279292, 163489,  46972,   6693, 109235,   7264,  75930,\n",
       "       150794, 238505,  66185,  26888,  11101, 135165,  21859, 134948,\n",
       "       121573, 255194, 226891, 273780, 164413,  46057, 164310,  28495,\n",
       "       151549, 243653,  43969,  41034, 173341,  39820,  30385, 241937,\n",
       "       228366,  85982, 202831, 269445, 110690, 168727,  94099,  25017,\n",
       "       207788, 125685, 201696,  17421,  83716, 270321,  61941, 237574,\n",
       "        90590, 106126, 213231, 226692, 130916,  24217, 256124, 209877,\n",
       "       273188, 103682, 152059, 210427, 217031, 245147, 199134, 116715,\n",
       "        89482, 220526, 199551,  65107, 167812, 233681,  33021, 164459,\n",
       "       221691, 156998, 100174, 123411, 102606, 135089, 131259,  27124,\n",
       "       164955, 181415, 116898,  26981, 138091, 272411, 225530,  51171,\n",
       "       271857,  51517,  56877, 271468, 279986, 245136,  13583, 129584,\n",
       "       167547, 149567,   1662, 284411, 209891,  36990,  21956, 262310,\n",
       "        36794, 113224, 110228,  16774, 127120,  27956, 121109,  75222,\n",
       "       253315,  91498,  46804, 168751,   4369, 224473, 245304,  72880,\n",
       "       114642, 153810,  32126,  28285,  21185, 148266,  12565, 217541,\n",
       "        87996,  80600, 130276, 128423, 162426, 248105,  25319,  33761,\n",
       "       170916,  19303, 105989, 168922, 154417, 257913, 177807, 113880,\n",
       "        51496,  18596,  94282, 170806, 113871, 113897,  94062, 256335,\n",
       "        35003, 284156, 178038, 170508, 206625,  58576, 193276, 193381,\n",
       "        27585, 280847, 163402, 217042, 182795,  30898, 200807, 252775,\n",
       "       169234,  45316, 163528, 145531, 220301,  71409, 204709, 161537,\n",
       "       275951, 120792, 223187, 133085, 136068,   1122, 265458,  13293,\n",
       "       142569,  42588, 105289, 113083, 268140,   2059,  25582, 163007,\n",
       "       152146, 105651, 109958, 162856, 165452, 135830, 209586, 192015,\n",
       "       115927,  31620,  19640, 223087,  62822,  32519,  99294,   5879,\n",
       "        70609, 136939,   9697,  68411, 147436,  84125, 151924, 198819,\n",
       "       174616, 160613,  84587, 151759, 211437, 191905,  79008, 132550,\n",
       "       123765,  63129,  23964, 113887, 167937, 158367, 230978, 246596,\n",
       "       132782, 244641,  21905, 123740,  13933,  25022, 207624, 160316,\n",
       "        52821, 181232, 202828,  86071,  19170,  23861, 148410, 207835,\n",
       "       158563,  49951, 272232,  48880,  37392, 259092, 117200,  18740,\n",
       "       262729, 282597,  18984, 129906, 116699, 150686, 203408, 115758,\n",
       "       213728, 159449,  17000,   1208, 132400, 127647, 185207, 212730,\n",
       "       190046, 243978,  64242, 187167, 143490, 106054,  63836,  75342,\n",
       "       135202, 113017, 115560, 223312, 279730,  80217, 242036, 274372,\n",
       "       265243, 153190, 204173, 238548, 186531, 107759, 218936, 261528,\n",
       "        44932,   5820, 155603, 138602,    697, 225947, 244040, 238819,\n",
       "       147539,  12247, 185794, 159192, 221078,  59560, 153840,   3295,\n",
       "        64387, 206262, 194819,  89458,  84915, 103529,  23215, 249655,\n",
       "        64714, 281498, 141988, 254166,  10907, 100250, 132242, 166747,\n",
       "       144914, 214053, 223778, 134062, 220664,  49552,  46283, 179682,\n",
       "       173536,  64480, 156954, 140575, 155731, 182986, 182898, 284336,\n",
       "       148059, 138123,   7911, 135992, 213256, 202076, 140141, 263933,\n",
       "        12091, 268723, 111059,  80724])"
      ]
     },
     "execution_count": 22,
     "metadata": {},
     "output_type": "execute_result"
    }
   ],
   "source": [
    "random_normal_indices = np.random.choice(normal_indices, number_records_fraud, replace=False)\n",
    "random_normal_indices"
   ]
  },
  {
   "cell_type": "code",
   "execution_count": 24,
   "metadata": {
    "scrolled": true
   },
   "outputs": [
    {
     "data": {
      "text/plain": [
       "array([247683, 133393,  92857,  35849, 211088, 172599,  42231, 125980,\n",
       "       190835,  49233, 256266,  21958, 210230, 252645, 216618, 240213,\n",
       "       203622, 214111, 164327,  71101, 177954, 213575, 102165,  14154,\n",
       "       124953, 172327,  20045, 101511,  88461, 199527, 235083, 275170,\n",
       "       187816, 162031,  62423, 242615, 172995, 117761,   4466, 113032,\n",
       "       168384,  13812,  15355, 183746,  75377, 244293, 147831, 111661,\n",
       "        76933, 172183, 226250, 282799, 279941, 183373,  73285, 100248,\n",
       "       178818,  23377, 107629, 216367,  45977, 163907, 243167, 274410,\n",
       "        22312,  89822,  77245,    817, 132324, 141350, 188447,  67607,\n",
       "       224877, 118165,  46366, 189348,  53988, 194264,  35183,  36086,\n",
       "        82056, 179008,  23849,  41301, 284352,  92638,  94990,  26111,\n",
       "        38208, 122094, 110739, 278175,  61633,   9446, 101575, 221141,\n",
       "        30296, 271204, 263002, 124173, 186906, 282987,  98988, 215104,\n",
       "       133727,  88730, 235920,  20533, 226429, 116660,  39974, 171267,\n",
       "       258949,  16932, 124380,  43546, 173425, 244072, 124547, 277368,\n",
       "       136755,  74364,  59068,  19062, 161615, 274646,  91840, 277715,\n",
       "       112252,  54400,  23095,  75244,  86294,  12852, 101853,  43596,\n",
       "       137901, 279292, 163489,  46972,   6693, 109235,   7264,  75930,\n",
       "       150794, 238505,  66185,  26888,  11101, 135165,  21859, 134948,\n",
       "       121573, 255194, 226891, 273780, 164413,  46057, 164310,  28495,\n",
       "       151549, 243653,  43969,  41034, 173341,  39820,  30385, 241937,\n",
       "       228366,  85982, 202831, 269445, 110690, 168727,  94099,  25017,\n",
       "       207788, 125685, 201696,  17421,  83716, 270321,  61941, 237574,\n",
       "        90590, 106126, 213231, 226692, 130916,  24217, 256124, 209877,\n",
       "       273188, 103682, 152059, 210427, 217031, 245147, 199134, 116715,\n",
       "        89482, 220526, 199551,  65107, 167812, 233681,  33021, 164459,\n",
       "       221691, 156998, 100174, 123411, 102606, 135089, 131259,  27124,\n",
       "       164955, 181415, 116898,  26981, 138091, 272411, 225530,  51171,\n",
       "       271857,  51517,  56877, 271468, 279986, 245136,  13583, 129584,\n",
       "       167547, 149567,   1662, 284411, 209891,  36990,  21956, 262310,\n",
       "        36794, 113224, 110228,  16774, 127120,  27956, 121109,  75222,\n",
       "       253315,  91498,  46804, 168751,   4369, 224473, 245304,  72880,\n",
       "       114642, 153810,  32126,  28285,  21185, 148266,  12565, 217541,\n",
       "        87996,  80600, 130276, 128423, 162426, 248105,  25319,  33761,\n",
       "       170916,  19303, 105989, 168922, 154417, 257913, 177807, 113880,\n",
       "        51496,  18596,  94282, 170806, 113871, 113897,  94062, 256335,\n",
       "        35003, 284156, 178038, 170508, 206625,  58576, 193276, 193381,\n",
       "        27585, 280847, 163402, 217042, 182795,  30898, 200807, 252775,\n",
       "       169234,  45316, 163528, 145531, 220301,  71409, 204709, 161537,\n",
       "       275951, 120792, 223187, 133085, 136068,   1122, 265458,  13293,\n",
       "       142569,  42588, 105289, 113083, 268140,   2059,  25582, 163007,\n",
       "       152146, 105651, 109958, 162856, 165452, 135830, 209586, 192015,\n",
       "       115927,  31620,  19640, 223087,  62822,  32519,  99294,   5879,\n",
       "        70609, 136939,   9697,  68411, 147436,  84125, 151924, 198819,\n",
       "       174616, 160613,  84587, 151759, 211437, 191905,  79008, 132550,\n",
       "       123765,  63129,  23964, 113887, 167937, 158367, 230978, 246596,\n",
       "       132782, 244641,  21905, 123740,  13933,  25022, 207624, 160316,\n",
       "        52821, 181232, 202828,  86071,  19170,  23861, 148410, 207835,\n",
       "       158563,  49951, 272232,  48880,  37392, 259092, 117200,  18740,\n",
       "       262729, 282597,  18984, 129906, 116699, 150686, 203408, 115758,\n",
       "       213728, 159449,  17000,   1208, 132400, 127647, 185207, 212730,\n",
       "       190046, 243978,  64242, 187167, 143490, 106054,  63836,  75342,\n",
       "       135202, 113017, 115560, 223312, 279730,  80217, 242036, 274372,\n",
       "       265243, 153190, 204173, 238548, 186531, 107759, 218936, 261528,\n",
       "        44932,   5820, 155603, 138602,    697, 225947, 244040, 238819,\n",
       "       147539,  12247, 185794, 159192, 221078,  59560, 153840,   3295,\n",
       "        64387, 206262, 194819,  89458,  84915, 103529,  23215, 249655,\n",
       "        64714, 281498, 141988, 254166,  10907, 100250, 132242, 166747,\n",
       "       144914, 214053, 223778, 134062, 220664,  49552,  46283, 179682,\n",
       "       173536,  64480, 156954, 140575, 155731, 182986, 182898, 284336,\n",
       "       148059, 138123,   7911, 135992, 213256, 202076, 140141, 263933,\n",
       "        12091, 268723, 111059,  80724])"
      ]
     },
     "execution_count": 24,
     "metadata": {},
     "output_type": "execute_result"
    }
   ],
   "source": [
    "random_normal_indices = np.array(random_normal_indices)\n",
    "random_normal_indices"
   ]
  },
  {
   "cell_type": "code",
   "execution_count": 27,
   "metadata": {},
   "outputs": [
    {
     "data": {
      "text/plain": [
       "1    492\n",
       "0    492\n",
       "Name: Class, dtype: int64"
      ]
     },
     "execution_count": 27,
     "metadata": {},
     "output_type": "execute_result"
    }
   ],
   "source": [
    "under_sample_indices = np.concatenate([fraud_indices, random_normal_indices])\n",
    "under_sample_data = data.iloc[under_sample_indices, :]\n",
    "under_sample_data.Class.value_counts()"
   ]
  },
  {
   "cell_type": "code",
   "execution_count": 28,
   "metadata": {},
   "outputs": [],
   "source": [
    "X_undersample = under_sample_data.iloc[:,under_sample_data.columns != 'Class']\n",
    "y_undersample = under_sample_data.iloc[:,under_sample_data.columns == 'Class']"
   ]
  },
  {
   "cell_type": "code",
   "execution_count": 34,
   "metadata": {},
   "outputs": [],
   "source": [
    "from sklearn.model_selection import train_test_split\n",
    "X_train, X_test, y_train, y_test = train_test_split(X,y, test_size=0.3, random_state=0)\n",
    "X_train_undersample, X_test_undersample, y_train_undersample, y_test_undersample = train_test_split(\n",
    "    X_undersample,y_undersample, test_size=0.3, random_state=0)"
   ]
  },
  {
   "cell_type": "code",
   "execution_count": 35,
   "metadata": {},
   "outputs": [
    {
     "name": "stdout",
     "output_type": "stream",
     "text": [
      "199364\n",
      "85443\n",
      "688\n",
      "296\n"
     ]
    }
   ],
   "source": [
    "print(len(X_train))\n",
    "print(len(y_test))\n",
    "print(len(X_train_undersample))\n",
    "print(len(y_test_undersample))"
   ]
  },
  {
   "cell_type": "code",
   "execution_count": 42,
   "metadata": {},
   "outputs": [],
   "source": [
    "# recall = TP/ TP + FN\n",
    "from sklearn.linear_model import LogisticRegression\n",
    "from sklearn.model_selection import KFold, cross_val_score\n",
    "from sklearn.metrics import confusion_matrix, recall_score, classification_report"
   ]
  },
  {
   "cell_type": "code",
   "execution_count": 66,
   "metadata": {},
   "outputs": [],
   "source": [
    "def printing_Kfold_scores(x_train_data, y_train_data):\n",
    "    fold = KFold(5,shuffle=False)\n",
    "    c_param_range = [0.001,0.01,0.1,1,10,100]\n",
    "    results_table = pd.DataFrame(index = range(len(c_param_range),2), columns = ['C_parameter','Mean recall score'])\n",
    "    results_table['C_parameter'] = c_param_range\n",
    "    \n",
    "    j = 0\n",
    "    for c_param in c_param_range:\n",
    "        print('-------------------------------------------')\n",
    "        print('C parameter: ', c_param)\n",
    "        print('-------------------------------------------')\n",
    "        print('')\n",
    "\n",
    "        recall_accs = []\n",
    "        m = 0\n",
    "        for train_index, test_index in fold.split(x_train_data):\n",
    "\n",
    "            # Call the logistic regression model with a certain C parameter\n",
    "            lr = LogisticRegression(C = c_param, penalty = 'l1')\n",
    "\n",
    "            # Use the training data to fit the model. In this case, we use the portion of the fold to train the model\n",
    "            # with indices[0]. We then predict on the portion assigned as the 'test cross validation' with indices[1]\n",
    "            lr.fit(x_train_data.iloc[train_index,:],y_train_data.iloc[train_index,:].values.ravel())\n",
    "\n",
    "            # Predict values using the test indices in the training data\n",
    "            y_pred_undersample = lr.predict(x_train_data.iloc[test_index,:].values)\n",
    "\n",
    "            # Calculate the recall score and append it to a list for recall scores representing the current c_parameter\n",
    "            recall_acc = recall_score(y_train_data.iloc[test_index,:].values,y_pred_undersample)\n",
    "            recall_accs.append(recall_acc)\n",
    "            print('Iteration ', m,': recall score = ', recall_acc)\n",
    "            m += 1\n",
    "\n",
    "        # The mean value of those recall scores is the metric we want to save and get hold of.\n",
    "        results_table.loc[j,'Mean recall score'] = np.mean(recall_accs)\n",
    "        j += 1\n",
    "        print('')\n",
    "        print('Mean recall score ', np.mean(recall_accs))\n",
    "        print('')\n",
    "    \n",
    "    best_c = results_table.iloc[results_table['C_parameter'].idxmax()]['C_parameter']\n",
    "    \n",
    "    # Finally, we can check which C parameter is the best amongst the chosen.\n",
    "    print('*********************************************************************************')\n",
    "    print('Best model to choose from cross validation is with C parameter = ', best_c)\n",
    "    print('*********************************************************************************')\n",
    "    \n",
    "    return best_c\n",
    "    "
   ]
  },
  {
   "cell_type": "code",
   "execution_count": 67,
   "metadata": {
    "scrolled": true
   },
   "outputs": [
    {
     "name": "stdout",
     "output_type": "stream",
     "text": [
      "-------------------------------------------\n",
      "C parameter:  0.001\n",
      "-------------------------------------------\n",
      "\n",
      "Iteration  0 : recall score =  0.0\n",
      "Iteration  1 : recall score =  0.0\n",
      "Iteration  2 : recall score =  0.8983050847457628\n",
      "Iteration  3 : recall score =  0.0\n",
      "Iteration  4 : recall score =  0.0\n",
      "\n",
      "Mean recall score  0.17966101694915254\n",
      "\n",
      "-------------------------------------------\n",
      "C parameter:  0.01\n",
      "-------------------------------------------\n",
      "\n",
      "Iteration  0 : recall score =  0.9452054794520548\n",
      "Iteration  1 : recall score =  0.9178082191780822\n",
      "Iteration  2 : recall score =  1.0\n",
      "Iteration  3 : recall score =  0.972972972972973\n",
      "Iteration  4 : recall score =  0.9545454545454546\n",
      "\n",
      "Mean recall score  0.9581064252297129\n",
      "\n",
      "-------------------------------------------\n",
      "C parameter:  0.1\n",
      "-------------------------------------------\n",
      "\n",
      "Iteration  0 : recall score =  0.8356164383561644\n",
      "Iteration  1 : recall score =  0.863013698630137\n",
      "Iteration  2 : recall score =  0.9491525423728814\n",
      "Iteration  3 : recall score =  0.9324324324324325\n",
      "Iteration  4 : recall score =  0.8939393939393939\n",
      "\n",
      "Mean recall score  0.8948309011462019\n",
      "\n",
      "-------------------------------------------\n",
      "C parameter:  1\n",
      "-------------------------------------------\n",
      "\n",
      "Iteration  0 : recall score =  0.863013698630137\n",
      "Iteration  1 : recall score =  0.863013698630137\n",
      "Iteration  2 : recall score =  0.9830508474576272\n",
      "Iteration  3 : recall score =  0.9459459459459459\n",
      "Iteration  4 : recall score =  0.8939393939393939\n",
      "\n",
      "Mean recall score  0.9097927169206482\n",
      "\n",
      "-------------------------------------------\n",
      "C parameter:  10\n",
      "-------------------------------------------\n",
      "\n",
      "Iteration  0 : recall score =  0.8767123287671232\n",
      "Iteration  1 : recall score =  0.863013698630137\n",
      "Iteration  2 : recall score =  0.9830508474576272\n",
      "Iteration  3 : recall score =  0.9594594594594594\n",
      "Iteration  4 : recall score =  0.8939393939393939\n",
      "\n",
      "Mean recall score  0.915235145650748\n",
      "\n",
      "-------------------------------------------\n",
      "C parameter:  100\n",
      "-------------------------------------------\n",
      "\n",
      "Iteration  0 : recall score =  0.8767123287671232\n",
      "Iteration  1 : recall score =  0.863013698630137\n",
      "Iteration  2 : recall score =  0.9830508474576272\n",
      "Iteration  3 : recall score =  0.9594594594594594\n",
      "Iteration  4 : recall score =  0.8939393939393939\n",
      "\n",
      "Mean recall score  0.915235145650748\n",
      "\n",
      "*********************************************************************************\n",
      "Best model to choose from cross validation is with C parameter =  100.0\n",
      "*********************************************************************************\n"
     ]
    }
   ],
   "source": [
    "best_c = printing_Kfold_scores(X_train_undersample,y_train_undersample)"
   ]
  },
  {
   "cell_type": "code",
   "execution_count": 62,
   "metadata": {},
   "outputs": [],
   "source": [
    "def plot_confusion_matrix(cm, classes,\n",
    "                          title='Confusion matrix',\n",
    "                          cmap=plt.cm.Blues):\n",
    "    \"\"\"\n",
    "    This function prints and plots the confusion matrix.\n",
    "    \"\"\"\n",
    "    plt.imshow(cm, interpolation='nearest', cmap=cmap)\n",
    "    plt.title(title)\n",
    "    plt.colorbar()\n",
    "    tick_marks = np.arange(len(classes))\n",
    "    plt.xticks(tick_marks, classes, rotation=0)\n",
    "    plt.yticks(tick_marks, classes)\n",
    "\n",
    "    thresh = cm.max() / 2.\n",
    "    for i, j in itertools.product(range(cm.shape[0]), range(cm.shape[1])):\n",
    "        plt.text(j, i, cm[i, j],\n",
    "                 horizontalalignment=\"center\",\n",
    "                 color=\"white\" if cm[i, j] > thresh else \"black\")\n",
    "\n",
    "    plt.tight_layout()\n",
    "    plt.ylabel('True label')\n",
    "    plt.xlabel('Predicted label')"
   ]
  },
  {
   "cell_type": "code",
   "execution_count": 65,
   "metadata": {},
   "outputs": [
    {
     "name": "stdout",
     "output_type": "stream",
     "text": [
      "[[144   5]\n",
      " [ 10 137]]\n",
      "Recall metric in the testing dataset:  0.9319727891156463\n"
     ]
    },
    {
     "data": {
      "image/png": "[encoded data removed]",
      "text/plain": [
       "<matplotlib.figure.Figure at 0x7fb7b3f8d160>"
      ]
     },
     "metadata": {},
     "output_type": "display_data"
    }
   ],
   "source": [
    "import itertools\n",
    "lr = LogisticRegression(C = best_c, penalty = 'l1')\n",
    "lr.fit(X_train_undersample,y_train_undersample.values.ravel())\n",
    "y_pred_undersample = lr.predict(X_test_undersample.values)\n",
    "\n",
    "# Compute confusion matrix\n",
    "cnf_matrix = confusion_matrix(y_test_undersample,y_pred_undersample)\n",
    "np.set_printoptions(precision=2)\n",
    "print(cnf_matrix)\n",
    "\n",
    "print(\"Recall metric in the testing dataset: \", cnf_matrix[1,1]/(cnf_matrix[1,0]+cnf_matrix[1,1]))\n",
    "\n",
    "# Plot non-normalized confusion matrix\n",
    "class_names = [0,1]\n",
    "plt.figure()\n",
    "plot_confusion_matrix(cnf_matrix\n",
    "                      , classes=class_names\n",
    "                      , title='Confusion matrix')\n",
    "plt.show()"
   ]
  },
  {
   "cell_type": "code",
   "execution_count": 70,
   "metadata": {},
   "outputs": [
    {
     "name": "stdout",
     "output_type": "stream",
     "text": [
      "Recall metric in the testing dataset:  0.9319727891156463\n"
     ]
    },
    {
     "data": {
      "image/png": "[encoded data removed]",
      "text/plain": [
       "<matplotlib.figure.Figure at 0x7fb7b3f12208>"
      ]
     },
     "metadata": {},
     "output_type": "display_data"
    }
   ],
   "source": [
    "lr = LogisticRegression(C = best_c,penalty='l1')\n",
    "lr.fit(X_train_undersample,y_train_undersample.values.ravel())\n",
    "y_pred = lr.predict(X_test.values)\n",
    "\n",
    "cnf_matrix = confusion_matrix(y_test,y_pred)\n",
    "np.set_printoptions(precision=2)\n",
    "print(\"Recall metric in the testing dataset: \", cnf_matrix[1,1]/(cnf_matrix[1,0]+cnf_matrix[1,1]))\n",
    "class_names = [0,1]\n",
    "plt.figure()\n",
    "plot_confusion_matrix(cnf_matrix, classes=class_names,title='Confusion Matrix')\n",
    "plt.show()"
   ]
  },
  {
   "cell_type": "code",
   "execution_count": 69,
   "metadata": {
    "scrolled": true
   },
   "outputs": [
    {
     "name": "stdout",
     "output_type": "stream",
     "text": [
      "-------------------------------------------\n",
      "C parameter:  0.001\n",
      "-------------------------------------------\n",
      "\n",
      "Iteration  0 : recall score =  0.13432835820895522\n",
      "Iteration  1 : recall score =  0.1780821917808219\n",
      "Iteration  2 : recall score =  0.13333333333333333\n",
      "Iteration  3 : recall score =  0.13846153846153847\n",
      "Iteration  4 : recall score =  0.075\n",
      "\n",
      "Mean recall score  0.13184108435692976\n",
      "\n",
      "-------------------------------------------\n",
      "C parameter:  0.01\n",
      "-------------------------------------------\n",
      "\n",
      "Iteration  0 : recall score =  0.4925373134328358\n",
      "Iteration  1 : recall score =  0.6027397260273972\n",
      "Iteration  2 : recall score =  0.6833333333333333\n",
      "Iteration  3 : recall score =  0.5692307692307692\n",
      "Iteration  4 : recall score =  0.45\n",
      "\n",
      "Mean recall score  0.5595682284048672\n",
      "\n",
      "-------------------------------------------\n",
      "C parameter:  0.1\n",
      "-------------------------------------------\n",
      "\n",
      "Iteration  0 : recall score =  0.5671641791044776\n",
      "Iteration  1 : recall score =  0.6164383561643836\n",
      "Iteration  2 : recall score =  0.6833333333333333\n",
      "Iteration  3 : recall score =  0.5846153846153846\n",
      "Iteration  4 : recall score =  0.525\n",
      "\n",
      "Mean recall score  0.5953102506435158\n",
      "\n",
      "-------------------------------------------\n",
      "C parameter:  1\n",
      "-------------------------------------------\n",
      "\n",
      "Iteration  0 : recall score =  0.5522388059701493\n",
      "Iteration  1 : recall score =  0.6164383561643836\n",
      "Iteration  2 : recall score =  0.7166666666666667\n",
      "Iteration  3 : recall score =  0.6153846153846154\n",
      "Iteration  4 : recall score =  0.5625\n",
      "\n",
      "Mean recall score  0.612645688837163\n",
      "\n",
      "-------------------------------------------\n",
      "C parameter:  10\n",
      "-------------------------------------------\n",
      "\n",
      "Iteration  0 : recall score =  0.5522388059701493\n",
      "Iteration  1 : recall score =  0.6164383561643836\n",
      "Iteration  2 : recall score =  0.7333333333333333\n",
      "Iteration  3 : recall score =  0.6153846153846154\n",
      "Iteration  4 : recall score =  0.575\n",
      "\n",
      "Mean recall score  0.6184790221704963\n",
      "\n",
      "-------------------------------------------\n",
      "C parameter:  100\n",
      "-------------------------------------------\n",
      "\n",
      "Iteration  0 : recall score =  0.5522388059701493\n",
      "Iteration  1 : recall score =  0.6164383561643836\n",
      "Iteration  2 : recall score =  0.7333333333333333\n",
      "Iteration  3 : recall score =  0.6153846153846154\n",
      "Iteration  4 : recall score =  0.575\n",
      "\n",
      "Mean recall score  0.6184790221704963\n",
      "\n",
      "*********************************************************************************\n",
      "Best model to choose from cross validation is with C parameter =  100.0\n",
      "*********************************************************************************\n"
     ]
    }
   ],
   "source": [
    "best_c = printing_Kfold_scores(X_train,y_train)"
   ]
  },
  {
   "cell_type": "code",
   "execution_count": 71,
   "metadata": {},
   "outputs": [
    {
     "name": "stdout",
     "output_type": "stream",
     "text": [
      "Recall metric in the testing dataset:  0.6190476190476191\n"
     ]
    },
    {
     "data": {
      "image/png": "[encoded data removed]",
      "text/plain": [
       "<matplotlib.figure.Figure at 0x7fb7b3fa8e48>"
      ]
     },
     "metadata": {},
     "output_type": "display_data"
    }
   ],
   "source": [
    "lr = LogisticRegression(C = best_c, penalty = 'l1')\n",
    "lr.fit(X_train,y_train.values.ravel())\n",
    "y_pred_undersample = lr.predict(X_test.values)\n",
    "\n",
    "# Compute confusion matrix\n",
    "cnf_matrix = confusion_matrix(y_test,y_pred_undersample)\n",
    "np.set_printoptions(precision=2)\n",
    "\n",
    "print(\"Recall metric in the testing dataset: \", cnf_matrix[1,1]/(cnf_matrix[1,0]+cnf_matrix[1,1]))\n",
    "\n",
    "# Plot non-normalized confusion matrix\n",
    "class_names = [0,1]\n",
    "plt.figure()\n",
    "plot_confusion_matrix(cnf_matrix\n",
    "                      , classes=class_names\n",
    "                      , title='Confusion matrix')\n",
    "plt.show()"
   ]
  },
  {
   "cell_type": "code",
   "execution_count": 76,
   "metadata": {},
   "outputs": [
    {
     "name": "stdout",
     "output_type": "stream",
     "text": [
      "(296, 2)\n",
      "Recall metric in the testing dataset:  1.0\n",
      "Recall metric in the testing dataset:  1.0\n",
      "Recall metric in the testing dataset:  1.0\n",
      "Recall metric in the testing dataset:  0.9863945578231292\n",
      "Recall metric in the testing dataset:  0.9319727891156463\n",
      "Recall metric in the testing dataset:  0.8843537414965986\n",
      "Recall metric in the testing dataset:  0.8367346938775511\n",
      "Recall metric in the testing dataset:  0.7687074829931972\n",
      "Recall metric in the testing dataset:  0.5918367346938775\n"
     ]
    },
    {
     "data": {
      "image/png": "[encoded data removed]",
      "text/plain": [
       "<matplotlib.figure.Figure at 0x7fb7b3a383c8>"
      ]
     },
     "metadata": {},
     "output_type": "display_data"
    }
   ],
   "source": [
    "lr = LogisticRegression(C = 0.01, penalty = 'l1')\n",
    "lr.fit(X_train_undersample,y_train_undersample.values.ravel())\n",
    "y_pred_undersample_proba = lr.predict_proba(X_test_undersample.values)\n",
    "print(y_pred_undersample_proba.shape)\n",
    "thresholds = [0.1,0.2,0.3,0.4,0.5,0.6,0.7,0.8,0.9]\n",
    "\n",
    "plt.figure(figsize=(10,10))\n",
    "j = 1\n",
    "for i in thresholds:\n",
    "    y_test_predictions_high_recall = y_pred_undersample_proba[:,1] > i\n",
    "    \n",
    "    plt.subplot(3,3,j)\n",
    "    j += 1\n",
    "    \n",
    "    # Compute confusion matrix\n",
    "    cnf_matrix = confusion_matrix(y_test_undersample,y_test_predictions_high_recall)\n",
    "    np.set_printoptions(precision=2)\n",
    "\n",
    "    print(\"Recall metric in the testing dataset: \", cnf_matrix[1,1]/(cnf_matrix[1,0]+cnf_matrix[1,1]))\n",
    "\n",
    "    # Plot non-normalized confusion matrix\n",
    "    class_names = [0,1]\n",
    "    plot_confusion_matrix(cnf_matrix\n",
    "                          , classes=class_names\n",
    "                          , title='Threshold >= %s'%i) "
   ]
  },
  {
   "cell_type": "code",
   "execution_count": 74,
   "metadata": {},
   "outputs": [
    {
     "name": "stdout",
     "output_type": "stream",
     "text": [
      "[[-1.86  3.44 -4.47 ...  0.42  0.21 -0.35]\n",
      " [-2.9   2.04 -0.21 ... -2.   -0.45 -0.35]\n",
      " [ 2.11  0.62 -2.83 ...  0.02  0.01 -0.35]\n",
      " ...\n",
      " [ 1.77 -0.14 -2.49 ... -0.01  0.01  0.21]\n",
      " [ 1.26  0.34  0.3  ... -0.02  0.03 -0.35]\n",
      " [ 0.06  0.68 -0.28 ...  0.23  0.07 -0.32]]\n"
     ]
    }
   ],
   "source": [
    "# print(X_train_undersample)\n",
    "print(X_train_undersample.values)"
   ]
  },
  {
   "cell_type": "code",
   "execution_count": 77,
   "metadata": {
    "collapsed": true
   },
   "outputs": [
    {
     "data": {
      "text/plain": [
       "array([False, False,  True, False, False,  True,  True, False, False,\n",
       "       False, False,  True,  True,  True, False,  True, False, False,\n",
       "        True,  True, False, False,  True, False,  True, False,  True,\n",
       "       False, False, False, False, False, False, False,  True,  True,\n",
       "        True, False,  True,  True,  True, False, False,  True, False,\n",
       "       False,  True,  True,  True, False, False, False, False, False,\n",
       "        True,  True, False, False, False,  True,  True, False,  True,\n",
       "       False, False, False,  True, False, False, False, False, False,\n",
       "       False, False, False,  True, False,  True,  True, False,  True,\n",
       "       False, False,  True, False, False,  True, False,  True, False,\n",
       "       False, False, False, False,  True, False,  True, False,  True,\n",
       "       False,  True, False, False, False,  True, False, False,  True,\n",
       "       False,  True, False,  True,  True, False, False, False,  True,\n",
       "       False, False,  True,  True, False, False,  True,  True, False,\n",
       "       False, False, False, False,  True, False,  True,  True,  True,\n",
       "        True,  True, False, False,  True, False, False, False, False,\n",
       "       False,  True, False, False, False,  True,  True, False, False,\n",
       "       False, False, False, False, False, False, False, False,  True,\n",
       "        True, False,  True,  True,  True,  True, False, False,  True,\n",
       "       False, False,  True, False,  True, False, False, False, False,\n",
       "       False,  True, False,  True, False,  True, False,  True, False,\n",
       "       False, False, False,  True, False,  True, False, False, False,\n",
       "        True,  True, False, False, False,  True,  True,  True, False,\n",
       "       False,  True, False, False, False,  True,  True,  True,  True,\n",
       "       False,  True,  True,  True, False,  True,  True, False, False,\n",
       "        True, False,  True,  True, False, False, False, False, False,\n",
       "       False, False, False, False, False,  True, False, False, False,\n",
       "       False, False, False, False,  True,  True, False, False,  True,\n",
       "        True, False, False, False,  True, False,  True,  True, False,\n",
       "        True,  True,  True, False, False, False, False, False, False,\n",
       "       False, False, False,  True, False,  True,  True, False, False,\n",
       "        True, False, False, False,  True,  True,  True,  True, False,\n",
       "        True,  True, False,  True, False, False, False, False])"
      ]
     },
     "execution_count": 77,
     "metadata": {},
     "output_type": "execute_result"
    }
   ],
   "source": [
    "yy = y_pred_undersample_proba\n",
    "yy_call = yy[:,1]>0.8\n",
    "yy_call"
   ]
  },
  {
   "cell_type": "code",
   "execution_count": 79,
   "metadata": {},
   "outputs": [
    {
     "data": {
      "text/plain": [
       "array([[148,   1],\n",
       "       [ 34, 113]])"
      ]
     },
     "execution_count": 79,
     "metadata": {},
     "output_type": "execute_result"
    }
   ],
   "source": [
    "cnf_matrix_mm = confusion_matrix(y_test_undersample,yy_call)\n",
    "cnf_matrix_mm"
   ]
  },
  {
   "cell_type": "code",
   "execution_count": 80,
   "metadata": {},
   "outputs": [],
   "source": [
    "from imblearn.over_sampling import SMOTE\n",
    "from sklearn.ensemble import RandomForestClassifier"
   ]
  },
  {
   "cell_type": "code",
   "execution_count": 81,
   "metadata": {},
   "outputs": [],
   "source": [
    "credit_cards=pd.read_csv('逻辑回归-信用卡欺诈检测/creditcard.csv')"
   ]
  },
  {
   "cell_type": "code",
   "execution_count": 82,
   "metadata": {},
   "outputs": [
    {
     "data": {
      "text/plain": [
       "199364"
      ]
     },
     "execution_count": 82,
     "metadata": {},
     "output_type": "execute_result"
    }
   ],
   "source": [
    "len(y_train[y_train==1])"
   ]
  },
  {
   "cell_type": "code",
   "execution_count": 83,
   "metadata": {},
   "outputs": [
    {
     "data": {
      "text/plain": [
       "199364"
      ]
     },
     "execution_count": 83,
     "metadata": {},
     "output_type": "execute_result"
    }
   ],
   "source": [
    "len(y_train[y_train==0])"
   ]
  },
  {
   "cell_type": "code",
   "execution_count": 84,
   "metadata": {},
   "outputs": [
    {
     "data": {
      "text/plain": [
       "(284807, 30)"
      ]
     },
     "execution_count": 84,
     "metadata": {},
     "output_type": "execute_result"
    }
   ],
   "source": [
    "data.shape"
   ]
  },
  {
   "cell_type": "code",
   "execution_count": 85,
   "metadata": {},
   "outputs": [
    {
     "data": {
      "text/plain": [
       "0    284315\n",
       "1       492\n",
       "Name: Class, dtype: int64"
      ]
     },
     "execution_count": 85,
     "metadata": {},
     "output_type": "execute_result"
    }
   ],
   "source": [
    "data.Class.value_counts()"
   ]
  },
  {
   "cell_type": "code",
   "execution_count": 86,
   "metadata": {},
   "outputs": [
    {
     "data": {
      "text/html": [
       "<div>\n",
       "<style scoped>\n",
       "    .dataframe tbody tr th:only-of-type {\n",
       "        vertical-align: middle;\n",
       "    }\n",
       "\n",
       "    .dataframe tbody tr th {\n",
       "        vertical-align: top;\n",
       "    }\n",
       "\n",
       "    .dataframe thead th {\n",
       "        text-align: right;\n",
       "    }\n",
       "</style>\n",
       "<table border=\"1\" class=\"dataframe\">\n",
       "  <thead>\n",
       "    <tr style=\"text-align: right;\">\n",
       "      <th></th>\n",
       "      <th>V1</th>\n",
       "      <th>V2</th>\n",
       "      <th>V3</th>\n",
       "      <th>V4</th>\n",
       "      <th>V5</th>\n",
       "      <th>V6</th>\n",
       "      <th>V7</th>\n",
       "      <th>V8</th>\n",
       "      <th>V9</th>\n",
       "      <th>V10</th>\n",
       "      <th>...</th>\n",
       "      <th>V21</th>\n",
       "      <th>V22</th>\n",
       "      <th>V23</th>\n",
       "      <th>V24</th>\n",
       "      <th>V25</th>\n",
       "      <th>V26</th>\n",
       "      <th>V27</th>\n",
       "      <th>V28</th>\n",
       "      <th>Class</th>\n",
       "      <th>normAmount</th>\n",
       "    </tr>\n",
       "  </thead>\n",
       "  <tbody>\n",
       "    <tr>\n",
       "      <th>0</th>\n",
       "      <td>-1.359807</td>\n",
       "      <td>-0.072781</td>\n",
       "      <td>2.536347</td>\n",
       "      <td>1.378155</td>\n",
       "      <td>-0.338321</td>\n",
       "      <td>0.462388</td>\n",
       "      <td>0.239599</td>\n",
       "      <td>0.098698</td>\n",
       "      <td>0.363787</td>\n",
       "      <td>0.090794</td>\n",
       "      <td>...</td>\n",
       "      <td>-0.018307</td>\n",
       "      <td>0.277838</td>\n",
       "      <td>-0.110474</td>\n",
       "      <td>0.066928</td>\n",
       "      <td>0.128539</td>\n",
       "      <td>-0.189115</td>\n",
       "      <td>0.133558</td>\n",
       "      <td>-0.021053</td>\n",
       "      <td>0</td>\n",
       "      <td>0.244964</td>\n",
       "    </tr>\n",
       "    <tr>\n",
       "      <th>1</th>\n",
       "      <td>1.191857</td>\n",
       "      <td>0.266151</td>\n",
       "      <td>0.166480</td>\n",
       "      <td>0.448154</td>\n",
       "      <td>0.060018</td>\n",
       "      <td>-0.082361</td>\n",
       "      <td>-0.078803</td>\n",
       "      <td>0.085102</td>\n",
       "      <td>-0.255425</td>\n",
       "      <td>-0.166974</td>\n",
       "      <td>...</td>\n",
       "      <td>-0.225775</td>\n",
       "      <td>-0.638672</td>\n",
       "      <td>0.101288</td>\n",
       "      <td>-0.339846</td>\n",
       "      <td>0.167170</td>\n",
       "      <td>0.125895</td>\n",
       "      <td>-0.008983</td>\n",
       "      <td>0.014724</td>\n",
       "      <td>0</td>\n",
       "      <td>-0.342475</td>\n",
       "    </tr>\n",
       "    <tr>\n",
       "      <th>2</th>\n",
       "      <td>-1.358354</td>\n",
       "      <td>-1.340163</td>\n",
       "      <td>1.773209</td>\n",
       "      <td>0.379780</td>\n",
       "      <td>-0.503198</td>\n",
       "      <td>1.800499</td>\n",
       "      <td>0.791461</td>\n",
       "      <td>0.247676</td>\n",
       "      <td>-1.514654</td>\n",
       "      <td>0.207643</td>\n",
       "      <td>...</td>\n",
       "      <td>0.247998</td>\n",
       "      <td>0.771679</td>\n",
       "      <td>0.909412</td>\n",
       "      <td>-0.689281</td>\n",
       "      <td>-0.327642</td>\n",
       "      <td>-0.139097</td>\n",
       "      <td>-0.055353</td>\n",
       "      <td>-0.059752</td>\n",
       "      <td>0</td>\n",
       "      <td>1.160686</td>\n",
       "    </tr>\n",
       "    <tr>\n",
       "      <th>3</th>\n",
       "      <td>-0.966272</td>\n",
       "      <td>-0.185226</td>\n",
       "      <td>1.792993</td>\n",
       "      <td>-0.863291</td>\n",
       "      <td>-0.010309</td>\n",
       "      <td>1.247203</td>\n",
       "      <td>0.237609</td>\n",
       "      <td>0.377436</td>\n",
       "      <td>-1.387024</td>\n",
       "      <td>-0.054952</td>\n",
       "      <td>...</td>\n",
       "      <td>-0.108300</td>\n",
       "      <td>0.005274</td>\n",
       "      <td>-0.190321</td>\n",
       "      <td>-1.175575</td>\n",
       "      <td>0.647376</td>\n",
       "      <td>-0.221929</td>\n",
       "      <td>0.062723</td>\n",
       "      <td>0.061458</td>\n",
       "      <td>0</td>\n",
       "      <td>0.140534</td>\n",
       "    </tr>\n",
       "    <tr>\n",
       "      <th>4</th>\n",
       "      <td>-1.158233</td>\n",
       "      <td>0.877737</td>\n",
       "      <td>1.548718</td>\n",
       "      <td>0.403034</td>\n",
       "      <td>-0.407193</td>\n",
       "      <td>0.095921</td>\n",
       "      <td>0.592941</td>\n",
       "      <td>-0.270533</td>\n",
       "      <td>0.817739</td>\n",
       "      <td>0.753074</td>\n",
       "      <td>...</td>\n",
       "      <td>-0.009431</td>\n",
       "      <td>0.798278</td>\n",
       "      <td>-0.137458</td>\n",
       "      <td>0.141267</td>\n",
       "      <td>-0.206010</td>\n",
       "      <td>0.502292</td>\n",
       "      <td>0.219422</td>\n",
       "      <td>0.215153</td>\n",
       "      <td>0</td>\n",
       "      <td>-0.073403</td>\n",
       "    </tr>\n",
       "  </tbody>\n",
       "</table>\n",
       "<p>5 rows × 30 columns</p>\n",
       "</div>"
      ],
      "text/plain": [
       "         V1        V2        V3        V4        V5        V6        V7  \\\n",
       "0 -1.359807 -0.072781  2.536347  1.378155 -0.338321  0.462388  0.239599   \n",
       "1  1.191857  0.266151  0.166480  0.448154  0.060018 -0.082361 -0.078803   \n",
       "2 -1.358354 -1.340163  1.773209  0.379780 -0.503198  1.800499  0.791461   \n",
       "3 -0.966272 -0.185226  1.792993 -0.863291 -0.010309  1.247203  0.237609   \n",
       "4 -1.158233  0.877737  1.548718  0.403034 -0.407193  0.095921  0.592941   \n",
       "\n",
       "         V8        V9       V10     ...           V21       V22       V23  \\\n",
       "0  0.098698  0.363787  0.090794     ...     -0.018307  0.277838 -0.110474   \n",
       "1  0.085102 -0.255425 -0.166974     ...     -0.225775 -0.638672  0.101288   \n",
       "2  0.247676 -1.514654  0.207643     ...      0.247998  0.771679  0.909412   \n",
       "3  0.377436 -1.387024 -0.054952     ...     -0.108300  0.005274 -0.190321   \n",
       "4 -0.270533  0.817739  0.753074     ...     -0.009431  0.798278 -0.137458   \n",
       "\n",
       "        V24       V25       V26       V27       V28  Class  normAmount  \n",
       "0  0.066928  0.128539 -0.189115  0.133558 -0.021053      0    0.244964  \n",
       "1 -0.339846  0.167170  0.125895 -0.008983  0.014724      0   -0.342475  \n",
       "2 -0.689281 -0.327642 -0.139097 -0.055353 -0.059752      0    1.160686  \n",
       "3 -1.175575  0.647376 -0.221929  0.062723  0.061458      0    0.140534  \n",
       "4  0.141267 -0.206010  0.502292  0.219422  0.215153      0   -0.073403  \n",
       "\n",
       "[5 rows x 30 columns]"
      ]
     },
     "execution_count": 86,
     "metadata": {},
     "output_type": "execute_result"
    }
   ],
   "source": [
    "data.head()"
   ]
  },
  {
   "cell_type": "code",
   "execution_count": 89,
   "metadata": {},
   "outputs": [
    {
     "data": {
      "text/plain": [
       "Index(['V1', 'V2', 'V3', 'V4', 'V5', 'V6', 'V7', 'V8', 'V9', 'V10', 'V11',\n",
       "       'V12', 'V13', 'V14', 'V15', 'V16', 'V17', 'V18', 'V19', 'V20', 'V21',\n",
       "       'V22', 'V23', 'V24', 'V25', 'V26', 'V27', 'V28', 'Class', 'normAmount'],\n",
       "      dtype='object')"
      ]
     },
     "execution_count": 89,
     "metadata": {},
     "output_type": "execute_result"
    }
   ],
   "source": [
    "columns = data.columns\n",
    "columns"
   ]
  },
  {
   "cell_type": "code",
   "execution_count": 92,
   "metadata": {},
   "outputs": [
    {
     "data": {
      "text/plain": [
       "Index(['V1', 'V2', 'V3', 'V4', 'V5', 'V6', 'V7', 'V8', 'V9', 'V10', 'V11',\n",
       "       'V12', 'V13', 'V14', 'V15', 'V16', 'V17', 'V18', 'V19', 'V20', 'V21',\n",
       "       'V22', 'V23', 'V24', 'V25', 'V26', 'V27', 'V28', 'normAmount'],\n",
       "      dtype='object')"
      ]
     },
     "execution_count": 92,
     "metadata": {},
     "output_type": "execute_result"
    }
   ],
   "source": [
    "features_columns = columns.delete(len(columns)-2)\n",
    "features_columns"
   ]
  },
  {
   "cell_type": "code",
   "execution_count": 93,
   "metadata": {},
   "outputs": [],
   "source": [
    "features = data[features_columns]\n",
    "labels = data['Class']"
   ]
  },
  {
   "cell_type": "code",
   "execution_count": 95,
   "metadata": {},
   "outputs": [
    {
     "data": {
      "text/plain": [
       "0    284315\n",
       "1       492\n",
       "Name: Class, dtype: int64"
      ]
     },
     "execution_count": 95,
     "metadata": {},
     "output_type": "execute_result"
    }
   ],
   "source": [
    "labels.value_counts()"
   ]
  },
  {
   "cell_type": "code",
   "execution_count": 97,
   "metadata": {},
   "outputs": [],
   "source": [
    "feature_train, feature_test, label_train, label_test = train_test_split(features,labels,test_size=0.3,random_state=0)"
   ]
  },
  {
   "cell_type": "code",
   "execution_count": 98,
   "metadata": {},
   "outputs": [
    {
     "data": {
      "text/plain": [
       "0    199019\n",
       "1       345\n",
       "Name: Class, dtype: int64"
      ]
     },
     "execution_count": 98,
     "metadata": {},
     "output_type": "execute_result"
    }
   ],
   "source": [
    "label_train.value_counts()"
   ]
  },
  {
   "cell_type": "code",
   "execution_count": 99,
   "metadata": {},
   "outputs": [],
   "source": [
    "oversampler = SMOTE(random_state=0)\n",
    "os_feature, os_label = oversampler.fit_sample(feature_train, label_train)"
   ]
  },
  {
   "cell_type": "code",
   "execution_count": 100,
   "metadata": {},
   "outputs": [
    {
     "data": {
      "text/plain": [
       "199019"
      ]
     },
     "execution_count": 100,
     "metadata": {},
     "output_type": "execute_result"
    }
   ],
   "source": [
    "len(os_label[os_label==1])"
   ]
  },
  {
   "cell_type": "code",
   "execution_count": 105,
   "metadata": {},
   "outputs": [
    {
     "data": {
      "text/plain": [
       "numpy.ndarray"
      ]
     },
     "execution_count": 105,
     "metadata": {},
     "output_type": "execute_result"
    }
   ],
   "source": [
    "type(os_label)"
   ]
  },
  {
   "cell_type": "code",
   "execution_count": 106,
   "metadata": {
    "scrolled": true
   },
   "outputs": [
    {
     "name": "stdout",
     "output_type": "stream",
     "text": [
      "-------------------------------------------\n",
      "C parameter:  0.001\n",
      "-------------------------------------------\n",
      "\n",
      "Iteration  0 : recall score =  0.9285714285714286\n",
      "Iteration  1 : recall score =  0.896\n",
      "Iteration  2 : recall score =  0.9060192210419828\n",
      "Iteration  3 : recall score =  0.8899343022598515\n",
      "Iteration  4 : recall score =  0.8900599193538257\n",
      "\n",
      "Mean recall score  0.9021169742454177\n",
      "\n",
      "-------------------------------------------\n",
      "C parameter:  0.01\n",
      "-------------------------------------------\n",
      "\n",
      "Iteration  0 : recall score =  0.9285714285714286\n",
      "Iteration  1 : recall score =  0.912\n",
      "Iteration  2 : recall score =  0.9130247850278199\n",
      "Iteration  3 : recall score =  0.8972954639667365\n",
      "Iteration  4 : recall score =  0.8974336427701082\n",
      "\n",
      "Mean recall score  0.9096650640672188\n",
      "\n",
      "-------------------------------------------\n",
      "C parameter:  0.1\n",
      "-------------------------------------------\n",
      "\n",
      "Iteration  0 : recall score =  0.9285714285714286\n",
      "Iteration  1 : recall score =  0.92\n",
      "Iteration  2 : recall score =  0.9144410723318159\n",
      "Iteration  3 : recall score =  0.89863956687226\n",
      "Iteration  4 : recall score =  0.8988656776414135\n",
      "\n",
      "Mean recall score  0.9121035490833836\n",
      "\n",
      "-------------------------------------------\n",
      "C parameter:  1\n",
      "-------------------------------------------\n",
      "\n",
      "Iteration  0 : recall score =  0.9285714285714286\n",
      "Iteration  1 : recall score =  0.92\n",
      "Iteration  2 : recall score =  0.9146181082448154\n",
      "Iteration  3 : recall score =  0.8990415415729772\n",
      "Iteration  4 : recall score =  0.8990917884105669\n",
      "\n",
      "Mean recall score  0.9122645733599576\n",
      "\n",
      "-------------------------------------------\n",
      "C parameter:  10\n",
      "-------------------------------------------\n",
      "\n",
      "Iteration  0 : recall score =  0.9285714285714286\n",
      "Iteration  1 : recall score =  0.92\n",
      "Iteration  2 : recall score =  0.9147192716236723\n",
      "Iteration  3 : recall score =  0.8990917884105669\n",
      "Iteration  4 : recall score =  0.8991169118293617\n",
      "\n",
      "Mean recall score  0.9122998800870059\n",
      "\n",
      "-------------------------------------------\n",
      "C parameter:  100\n",
      "-------------------------------------------\n",
      "\n",
      "Iteration  0 : recall score =  0.9285714285714286\n",
      "Iteration  1 : recall score =  0.92\n",
      "Iteration  2 : recall score =  0.9146181082448154\n",
      "Iteration  3 : recall score =  0.8988154308038238\n",
      "Iteration  4 : recall score =  0.8991294735387592\n",
      "\n",
      "Mean recall score  0.9122268882317653\n",
      "\n",
      "*********************************************************************************\n",
      "Best model to choose from cross validation is with C parameter =  100.0\n",
      "*********************************************************************************\n"
     ]
    }
   ],
   "source": [
    "os_features = pd.DataFrame(os_feature)\n",
    "os_labels = pd.DataFrame(os_label)\n",
    "best_c2 = printing_Kfold_scores(os_features, os_labels) "
   ]
  },
  {
   "cell_type": "code",
   "execution_count": null,
   "metadata": {},
   "outputs": [],
   "source": [
    "lr = LogisticRegression(C = best_c2, penalty = 'l1')\n",
    "lr.fit(os_features,os_labels.values.ravel())\n",
    "y_pred = lr.predict(feature_test.values)\n",
    "\n",
    "# Compute confusion matrix\n",
    "cnf_matrix = confusion_matrix(label_test,y_pred)\n",
    "np.set_printoptions(precision=2)\n",
    "\n",
    "print(\"Recall metric in the testing dataset: \", cnf_matrix[1,1]/(cnf_matrix[1,0]+cnf_matrix[1,1]))\n",
    "\n",
    "# Plot non-normalized confusion matrix\n",
    "class_names = [0,1]\n",
    "plt.figure()\n",
    "plot_confusion_matrix(cnf_matrix\n",
    "                      , classes=class_names\n",
    "                      , title='Confusion matrix')\n",
    "plt.show()"
   ]
  }
 ],
 "metadata": {
  "kernelspec": {
   "display_name": "Python 3",
   "language": "python",
   "name": "python3"
  },
  "language_info": {
   "codemirror_mode": {
    "name": "ipython",
    "version": 3
   },
   "file_extension": ".py",
   "mimetype": "text/x-python",
   "name": "python",
   "nbconvert_exporter": "python",
   "pygments_lexer": "ipython3",
   "version": "3.5.2"
  }
 },
 "nbformat": 4,
 "nbformat_minor": 2
}
